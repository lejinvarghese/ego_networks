{
 "cells": [
  {
   "cell_type": "markdown",
   "id": "a3d1a941-baa0-4632-9d85-2d50a078b552",
   "metadata": {
    "tags": []
   },
   "source": [
    "# **Network Exploration**"
   ]
  },
  {
   "cell_type": "markdown",
   "id": "5d7424cb-8074-4a72-bb11-6377f3fa12ac",
   "metadata": {
    "tags": []
   },
   "source": [
    "## **Imports**"
   ]
  },
  {
   "cell_type": "code",
   "execution_count": 1,
   "id": "52d5128e-30c9-42fa-a9ee-fa03fcbe54f3",
   "metadata": {},
   "outputs": [],
   "source": [
    "import os\n",
    "import sys\n",
    "from pathlib import Path\n",
    "from warnings import filterwarnings\n",
    "from dotenv import load_dotenv\n",
    "import tweepy\n",
    "import numpy as np\n",
    "import pandas as pd\n",
    "import ast\n",
    "\n",
    "load_dotenv()\n",
    "filterwarnings(\"ignore\")\n",
    "\n",
    "PATH = os.getcwd()\n",
    "PROJECT = str(Path(PATH).parents[1])\n",
    "TWITTER_USERNAME = os.getenv(\"TWITTER_USERNAME\")\n",
    "TWITTER_API_KEY = os.getenv(\"TWITTER_API_KEY\")\n",
    "TWITTER_API_SECRET = os.getenv(\"TWITTER_API_SECRET\")\n",
    "TWITTER_API_BEARER_TOKEN = os.getenv(\"TWITTER_API_BEARER_TOKEN\")\n",
    "\n",
    "client = tweepy.Client(TWITTER_API_BEARER_TOKEN, wait_on_rate_limit=True)"
   ]
  },
  {
   "cell_type": "markdown",
   "id": "e95c3d6d-03cf-4f8f-a000-79c77b78a754",
   "metadata": {
    "tags": []
   },
   "source": [
    "## **Read**"
   ]
  },
  {
   "cell_type": "code",
   "execution_count": 2,
   "id": "7b19b6be-89af-458b-9fed-edb68acb2499",
   "metadata": {},
   "outputs": [
    {
     "data": {
      "text/html": [
       "<div>\n",
       "<style scoped>\n",
       "    .dataframe tbody tr th:only-of-type {\n",
       "        vertical-align: middle;\n",
       "    }\n",
       "\n",
       "    .dataframe tbody tr th {\n",
       "        vertical-align: top;\n",
       "    }\n",
       "\n",
       "    .dataframe thead th {\n",
       "        text-align: right;\n",
       "    }\n",
       "</style>\n",
       "<table border=\"1\" class=\"dataframe\">\n",
       "  <thead>\n",
       "    <tr style=\"text-align: right;\">\n",
       "      <th></th>\n",
       "      <th>user</th>\n",
       "      <th>following</th>\n",
       "    </tr>\n",
       "  </thead>\n",
       "  <tbody>\n",
       "    <tr>\n",
       "      <th>0</th>\n",
       "      <td>1210565171107815429</td>\n",
       "      <td>[1281443510, 632966383, 27631809, 14922097, 22...</td>\n",
       "    </tr>\n",
       "    <tr>\n",
       "      <th>1</th>\n",
       "      <td>3432386097</td>\n",
       "      <td>[33836629, 188343397, 235684766, 17268874, 439...</td>\n",
       "    </tr>\n",
       "    <tr>\n",
       "      <th>2</th>\n",
       "      <td>1120633726478823425</td>\n",
       "      <td>[]</td>\n",
       "    </tr>\n",
       "    <tr>\n",
       "      <th>3</th>\n",
       "      <td>4398626122</td>\n",
       "      <td>[]</td>\n",
       "    </tr>\n",
       "    <tr>\n",
       "      <th>4</th>\n",
       "      <td>48008938</td>\n",
       "      <td>[1464797992872034304, 630995607, 27493883, 123...</td>\n",
       "    </tr>\n",
       "  </tbody>\n",
       "</table>\n",
       "</div>"
      ],
      "text/plain": [
       "                  user                                          following\n",
       "0  1210565171107815429  [1281443510, 632966383, 27631809, 14922097, 22...\n",
       "1           3432386097  [33836629, 188343397, 235684766, 17268874, 439...\n",
       "2  1120633726478823425                                                 []\n",
       "3           4398626122                                                 []\n",
       "4             48008938  [1464797992872034304, 630995607, 27493883, 123..."
      ]
     },
     "execution_count": 2,
     "metadata": {},
     "output_type": "execute_result"
    }
   ],
   "source": [
    "df = pd.read_csv(\"data/users_followers.csv\")\n",
    "df.following = df.following.apply(ast.literal_eval)\n",
    "df.head()"
   ]
  },
  {
   "cell_type": "code",
   "execution_count": 3,
   "id": "3cc884dd-60de-4417-8285-05a0e0ad9f43",
   "metadata": {},
   "outputs": [
    {
     "data": {
      "text/html": [
       "<div>\n",
       "<style scoped>\n",
       "    .dataframe tbody tr th:only-of-type {\n",
       "        vertical-align: middle;\n",
       "    }\n",
       "\n",
       "    .dataframe tbody tr th {\n",
       "        vertical-align: top;\n",
       "    }\n",
       "\n",
       "    .dataframe thead th {\n",
       "        text-align: right;\n",
       "    }\n",
       "</style>\n",
       "<table border=\"1\" class=\"dataframe\">\n",
       "  <thead>\n",
       "    <tr style=\"text-align: right;\">\n",
       "      <th></th>\n",
       "      <th>user</th>\n",
       "      <th>following</th>\n",
       "    </tr>\n",
       "  </thead>\n",
       "  <tbody>\n",
       "    <tr>\n",
       "      <th>0</th>\n",
       "      <td>1210565171107815429</td>\n",
       "      <td>1281443510</td>\n",
       "    </tr>\n",
       "    <tr>\n",
       "      <th>0</th>\n",
       "      <td>1210565171107815429</td>\n",
       "      <td>632966383</td>\n",
       "    </tr>\n",
       "    <tr>\n",
       "      <th>0</th>\n",
       "      <td>1210565171107815429</td>\n",
       "      <td>27631809</td>\n",
       "    </tr>\n",
       "    <tr>\n",
       "      <th>0</th>\n",
       "      <td>1210565171107815429</td>\n",
       "      <td>14922097</td>\n",
       "    </tr>\n",
       "    <tr>\n",
       "      <th>0</th>\n",
       "      <td>1210565171107815429</td>\n",
       "      <td>228132689</td>\n",
       "    </tr>\n",
       "    <tr>\n",
       "      <th>...</th>\n",
       "      <td>...</td>\n",
       "      <td>...</td>\n",
       "    </tr>\n",
       "    <tr>\n",
       "      <th>128</th>\n",
       "      <td>620047515</td>\n",
       "      <td>9624742</td>\n",
       "    </tr>\n",
       "    <tr>\n",
       "      <th>128</th>\n",
       "      <td>620047515</td>\n",
       "      <td>1967216306</td>\n",
       "    </tr>\n",
       "    <tr>\n",
       "      <th>128</th>\n",
       "      <td>620047515</td>\n",
       "      <td>73238146</td>\n",
       "    </tr>\n",
       "    <tr>\n",
       "      <th>128</th>\n",
       "      <td>620047515</td>\n",
       "      <td>11134252</td>\n",
       "    </tr>\n",
       "    <tr>\n",
       "      <th>128</th>\n",
       "      <td>620047515</td>\n",
       "      <td>14344823</td>\n",
       "    </tr>\n",
       "  </tbody>\n",
       "</table>\n",
       "<p>138015 rows × 2 columns</p>\n",
       "</div>"
      ],
      "text/plain": [
       "                    user   following\n",
       "0    1210565171107815429  1281443510\n",
       "0    1210565171107815429   632966383\n",
       "0    1210565171107815429    27631809\n",
       "0    1210565171107815429    14922097\n",
       "0    1210565171107815429   228132689\n",
       "..                   ...         ...\n",
       "128            620047515     9624742\n",
       "128            620047515  1967216306\n",
       "128            620047515    73238146\n",
       "128            620047515    11134252\n",
       "128            620047515    14344823\n",
       "\n",
       "[138015 rows x 2 columns]"
      ]
     },
     "execution_count": 3,
     "metadata": {},
     "output_type": "execute_result"
    }
   ],
   "source": [
    "df = df.explode('following')\n",
    "df"
   ]
  },
  {
   "cell_type": "markdown",
   "id": "f229e050-c3e3-490a-b3d4-ebf1f45f3168",
   "metadata": {
    "tags": []
   },
   "source": [
    "## **Play with Torch**"
   ]
  },
  {
   "cell_type": "code",
   "execution_count": 13,
   "id": "1f353124-e479-4169-ae89-1bf2ad6fb7eb",
   "metadata": {},
   "outputs": [
    {
     "data": {
      "text/plain": [
       "Data(x=[3, 1], edge_index=[2, 4])"
      ]
     },
     "execution_count": 13,
     "metadata": {},
     "output_type": "execute_result"
    }
   ],
   "source": [
    "import torch\n",
    "from torch_geometric.data import Data\n",
    "import torch.nn.functional as F\n",
    "from torch_geometric.nn import GCNConv\n",
    "from torch_geometric.datasets import Planetoid\n",
    "\n",
    "edge_index = torch.tensor([[0, 1, 1, 2],\n",
    "                           [1, 0, 2, 1]], dtype=torch.long)\n",
    "x = torch.tensor([[-1], [0], [1]], dtype=torch.float)\n",
    "\n",
    "data = Data(x=x, edge_index=edge_index)\n",
    "data"
   ]
  },
  {
   "cell_type": "markdown",
   "id": "292b8aa7-b336-44b4-a2e5-0b8ff5d312a6",
   "metadata": {},
   "source": [
    "`data.x`: Node feature matrix with shape `[num_nodes, num_node_features]`\n",
    "\n",
    "`data.edge_index`: Graph connectivity in COO format with shape `[2, num_edges]` and type torch.long\n",
    "\n",
    "`data.edge_attr`: Edge feature matrix with shape `[num_edges, num_edge_features]`\n",
    "\n",
    "`data.y`: Target to train against (may have arbitrary shape), e.g., node-level targets of shape `[num_nodes, *]` or graph-level targets of shape `[1, *]`\n",
    "\n",
    "`data.pos`: Node position matrix with shape `[num_nodes, num_dimensions]`"
   ]
  },
  {
   "cell_type": "code",
   "execution_count": 8,
   "id": "1db617dc-e352-429d-a686-bdd61520d78e",
   "metadata": {},
   "outputs": [
    {
     "name": "stdout",
     "output_type": "stream",
     "text": [
      "['x', 'edge_index']\n",
      "tensor([[-1.],\n",
      "        [ 0.],\n",
      "        [ 1.]])\n"
     ]
    }
   ],
   "source": [
    "print(data.keys)\n",
    "print(data['x'])"
   ]
  },
  {
   "cell_type": "code",
   "execution_count": 14,
   "id": "d98477e0-239c-4aee-8eaf-e0c7d3d4bdd8",
   "metadata": {},
   "outputs": [],
   "source": [
    "dataset = Planetoid(root='/tmp/Cora', name='Cora')"
   ]
  },
  {
   "cell_type": "code",
   "execution_count": 15,
   "id": "48a489fe-e3f9-4bdd-9535-94467c1d03ac",
   "metadata": {},
   "outputs": [],
   "source": [
    "class GCN(torch.nn.Module):\n",
    "    def __init__(self):\n",
    "        super().__init__()\n",
    "        self.conv_1 = GCNConv(dataset.num_node_features, 16)\n",
    "        self.conv_2 = GCNConv(16, dataset.num_classes)\n",
    "    \n",
    "    def forward(self, data):\n",
    "        x, edge_index = data.x, data.edge_index\n",
    "        x = self.conv_1(x, edge_index)\n",
    "        x = F.relu(x)\n",
    "        x = F.dropout(x, training = self.training)\n",
    "        x = self.conv_2(x, edge_index)\n",
    "        return F.log_softmax(x, dim=1)"
   ]
  },
  {
   "cell_type": "code",
   "execution_count": 20,
   "id": "ca5389d9-5f5e-4a4b-8446-95f0883ea8c9",
   "metadata": {},
   "outputs": [
    {
     "name": "stdout",
     "output_type": "stream",
     "text": [
      "Accuracy: 0.7980\n"
     ]
    }
   ],
   "source": [
    "device = torch.device('cuda' if torch.cuda.is_available() else 'cpu')\n",
    "model = GCN().to(device)\n",
    "data = dataset[0].to(device)\n",
    "optimizer = torch.optim.Adam(model.parameters(), lr=0.01, weight_decay=5e-4)\n",
    "\n",
    "model.train()\n",
    "for epoch in range(200):\n",
    "    optimizer.zero_grad()\n",
    "    out = model(data)\n",
    "    loss = F.nll_loss(out[data.train_mask], data.y[data.train_mask])\n",
    "    loss.backward()\n",
    "    optimizer.step()\n",
    "\n",
    "model.eval()\n",
    "pred = model(data).argmax(dim=1)\n",
    "correct = (pred[data.test_mask] == data.y[data.test_mask]).sum()\n",
    "acc = int(correct) / int(data.test_mask.sum())\n",
    "print(f'Accuracy: {acc:.4f}')"
   ]
  },
  {
   "cell_type": "code",
   "execution_count": null,
   "id": "b0841ff3-6871-44c6-8f34-11fa85442484",
   "metadata": {},
   "outputs": [],
   "source": []
  }
 ],
 "metadata": {
  "kernelspec": {
   "display_name": "twitter_network",
   "language": "python",
   "name": "twitter_network"
  },
  "language_info": {
   "codemirror_mode": {
    "name": "ipython",
    "version": 3
   },
   "file_extension": ".py",
   "mimetype": "text/x-python",
   "name": "python",
   "nbconvert_exporter": "python",
   "pygments_lexer": "ipython3",
   "version": "3.9.5"
  }
 },
 "nbformat": 4,
 "nbformat_minor": 5
}
