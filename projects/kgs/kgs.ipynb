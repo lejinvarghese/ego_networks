{
 "cells": [
  {
   "cell_type": "markdown",
   "id": "7f192485-ae68-4abc-af71-90a9ed2305cf",
   "metadata": {
    "tags": []
   },
   "source": [
    "# **Imports**"
   ]
  },
  {
   "cell_type": "code",
   "execution_count": 1,
   "id": "9577be5e-a12b-4110-bac6-b276657611e2",
   "metadata": {},
   "outputs": [],
   "source": [
    "import os\n",
    "import sys\n",
    "import tqdm\n",
    "from pathlib import Path\n",
    "from tqdm.notebook import trange, tqdm\n",
    "from warnings import filterwarnings\n",
    "\n",
    "filterwarnings(\"ignore\")\n",
    "\n",
    "PATH = os.getcwd()\n",
    "PROJECT = str(Path(PATH).parents[0])"
   ]
  },
  {
   "cell_type": "code",
   "execution_count": 5,
   "id": "d70fc3b7-8ffc-4668-bfbb-57b2e7ba3d53",
   "metadata": {},
   "outputs": [
    {
     "data": {
      "text/plain": [
       "'1.4.0'"
      ]
     },
     "execution_count": 5,
     "metadata": {},
     "output_type": "execute_result"
    }
   ],
   "source": [
    "import numpy as np\n",
    "import pandas as pd\n",
    "import ampligraph\n",
    "\n",
    "ampligraph.__version__"
   ]
  },
  {
   "cell_type": "code",
   "execution_count": 3,
   "id": "1e254dcf-b668-4873-ab15-19406dc4d30a",
   "metadata": {},
   "outputs": [
    {
     "data": {
      "text/plain": [
       "array([['Smithyton', 'SEAT_OF', 'House Shermer of Smithyton'],\n",
       "       ['House Mormont of Bear Island', 'LED_BY', 'Maege Mormont'],\n",
       "       ['Margaery Tyrell', 'SPOUSE', 'Joffrey Baratheon'],\n",
       "       ['Maron Nymeros Martell', 'ALLIED_WITH',\n",
       "        'House Nymeros Martell of Sunspear'],\n",
       "       ['House Gargalen of Salt Shore', 'IN_REGION', 'Dorne']],\n",
       "      dtype=object)"
      ]
     },
     "execution_count": 3,
     "metadata": {},
     "output_type": "execute_result"
    }
   ],
   "source": [
    "import requests\n",
    "from ampligraph.datasets import load_from_csv\n",
    "\n",
    "url = 'https://ampligraph.s3-eu-west-1.amazonaws.com/datasets/GoT.csv'\n",
    "file = f'{PROJECT}/data/GoT.csv'\n",
    "open(file, 'wb').write(requests.get(url).content)\n",
    "X = load_from_csv('.',file, sep=',')\n",
    "X[:5, ]"
   ]
  },
  {
   "cell_type": "code",
   "execution_count": 6,
   "id": "a74da18a-6187-42b2-b3ca-d4df3712195c",
   "metadata": {},
   "outputs": [
    {
     "name": "stdout",
     "output_type": "stream",
     "text": [
      "['ALLIED_WITH' 'BRANCH_OF' 'FOUNDED_BY' 'HEIR_TO' 'IN_REGION' 'LED_BY'\n",
      " 'PARENT_OF' 'SEAT_OF' 'SPOUSE' 'SWORN_TO'] ['Abelar Hightower' 'Acorn Hall' 'Addam Frey' ... 'the Antlers' 'the Paps'\n",
      " 'unnamed tower']\n"
     ]
    }
   ],
   "source": [
    "entities = np.unique(np.concatenate([X[:, 0], X[:, 2]]))\n",
    "relations = np.unique(X[:, 1])\n",
    "print(relations, entities)"
   ]
  },
  {
   "cell_type": "code",
   "execution_count": 7,
   "id": "a67648c9-15ed-4cdc-96ff-1deef8886344",
   "metadata": {},
   "outputs": [
    {
     "name": "stdout",
     "output_type": "stream",
     "text": [
      "Train set size:  (3075, 3)\n",
      "Test set size:  (100, 3)\n"
     ]
    }
   ],
   "source": [
    "from ampligraph.evaluation import train_test_split_no_unseen \n",
    "\n",
    "X_train, X_test = train_test_split_no_unseen(X, test_size=100) \n",
    "print('Train set size: ', X_train.shape)\n",
    "print('Test set size: ', X_test.shape)"
   ]
  },
  {
   "cell_type": "code",
   "execution_count": 8,
   "id": "3b18aa11-0d20-4da3-a7f2-cd4f26466051",
   "metadata": {},
   "outputs": [],
   "source": [
    "from ampligraph.latent_features import ComplEx"
   ]
  },
  {
   "cell_type": "code",
   "execution_count": 9,
   "id": "d633c4eb-6864-4595-9cf8-2c1a389e0d88",
   "metadata": {},
   "outputs": [],
   "source": [
    "model = ComplEx(batches_count=100, \n",
    "                seed=0, \n",
    "                epochs=200, \n",
    "                k=150, \n",
    "                eta=5,\n",
    "                optimizer='adam', \n",
    "                optimizer_params={'lr':1e-3},\n",
    "                loss='multiclass_nll', \n",
    "                regularizer='LP', \n",
    "                regularizer_params={'p':3, 'lambda':1e-5}, \n",
    "                verbose=True)"
   ]
  },
  {
   "cell_type": "code",
   "execution_count": 10,
   "id": "3179dd90-cafe-45cc-bfb0-0906b959f442",
   "metadata": {},
   "outputs": [
    {
     "name": "stderr",
     "output_type": "stream",
     "text": [
      "Average ComplEx Loss:   0.018132: 100%|██████████| 200/200 [01:30<00:00,  2.21epoch/s]\n"
     ]
    }
   ],
   "source": [
    "positives_filter = X\n",
    "import tensorflow as tf\n",
    "tf.logging.set_verbosity(tf.logging.ERROR)\n",
    "\n",
    "model.fit(X_train, early_stopping = False)"
   ]
  },
  {
   "cell_type": "code",
   "execution_count": 11,
   "id": "706a1c30-8155-4ca5-8cd5-5c82ad3963b0",
   "metadata": {},
   "outputs": [],
   "source": [
    "from ampligraph.latent_features import save_model, restore_model\n",
    "save_model(model, './best_model.pkl')"
   ]
  },
  {
   "cell_type": "code",
   "execution_count": 12,
   "id": "1f55a368-5561-42fc-b761-d457866f5928",
   "metadata": {},
   "outputs": [
    {
     "name": "stdout",
     "output_type": "stream",
     "text": [
      "WARNING - DeprecationWarning: use_default_protocol will be removed in future. Please use corrupt_side argument instead.\n"
     ]
    },
    {
     "name": "stderr",
     "output_type": "stream",
     "text": [
      "100%|██████████| 100/100 [00:00<00:00, 158.48it/s]\n"
     ]
    },
    {
     "name": "stdout",
     "output_type": "stream",
     "text": [
      "MRR: 0.44\n",
      "Hits@10: 0.57\n",
      "Hits@3: 0.46\n",
      "Hits@1: 0.36\n"
     ]
    }
   ],
   "source": [
    "from ampligraph.evaluation import evaluate_performance\n",
    "ranks = evaluate_performance(X_test, \n",
    "                             model=model, \n",
    "                             filter_triples=positives_filter,   # Corruption strategy filter defined above \n",
    "                             use_default_protocol=True, # corrupt subj and obj separately while evaluating\n",
    "                             verbose=True)\n",
    "\n",
    "from ampligraph.evaluation import mr_score, mrr_score, hits_at_n_score\n",
    "\n",
    "mrr = mrr_score(ranks)\n",
    "print(\"MRR: %.2f\" % (mrr))\n",
    "\n",
    "hits_10 = hits_at_n_score(ranks, n=10)\n",
    "print(\"Hits@10: %.2f\" % (hits_10))\n",
    "hits_3 = hits_at_n_score(ranks, n=3)\n",
    "print(\"Hits@3: %.2f\" % (hits_3))\n",
    "hits_1 = hits_at_n_score(ranks, n=1)\n",
    "print(\"Hits@1: %.2f\" % (hits_1))"
   ]
  },
  {
   "cell_type": "code",
   "execution_count": 14,
   "id": "70b20b61-cfd8-4bef-be4e-6ebf0dbf4ed4",
   "metadata": {},
   "outputs": [
    {
     "name": "stderr",
     "output_type": "stream",
     "text": [
      "100%|██████████| 22/22 [00:00<00:00, 105.79it/s]\n"
     ]
    },
    {
     "data": {
      "text/html": [
       "<div>\n",
       "<style scoped>\n",
       "    .dataframe tbody tr th:only-of-type {\n",
       "        vertical-align: middle;\n",
       "    }\n",
       "\n",
       "    .dataframe tbody tr th {\n",
       "        vertical-align: top;\n",
       "    }\n",
       "\n",
       "    .dataframe thead th {\n",
       "        text-align: right;\n",
       "    }\n",
       "</style>\n",
       "<table border=\"1\" class=\"dataframe\">\n",
       "  <thead>\n",
       "    <tr style=\"text-align: right;\">\n",
       "      <th></th>\n",
       "      <th>statement</th>\n",
       "      <th>rank</th>\n",
       "      <th>score</th>\n",
       "      <th>prob</th>\n",
       "    </tr>\n",
       "  </thead>\n",
       "  <tbody>\n",
       "    <tr>\n",
       "      <th>9</th>\n",
       "      <td>Brandon Stark ALLIED_WITH House Stark of Winte...</td>\n",
       "      <td>1</td>\n",
       "      <td>6.629964</td>\n",
       "      <td>0.998681</td>\n",
       "    </tr>\n",
       "    <tr>\n",
       "      <th>12</th>\n",
       "      <td>House Hutcheson SWORN_TO House Tyrell of Highg...</td>\n",
       "      <td>4</td>\n",
       "      <td>9.970954</td>\n",
       "      <td>0.999953</td>\n",
       "    </tr>\n",
       "    <tr>\n",
       "      <th>6</th>\n",
       "      <td>House Stark of Winterfell IN_REGION The North</td>\n",
       "      <td>12</td>\n",
       "      <td>2.354563</td>\n",
       "      <td>0.913296</td>\n",
       "    </tr>\n",
       "    <tr>\n",
       "      <th>16</th>\n",
       "      <td>Robert I Baratheon PARENT_OF Myrcella Baratheon</td>\n",
       "      <td>18</td>\n",
       "      <td>1.951342</td>\n",
       "      <td>0.875593</td>\n",
       "    </tr>\n",
       "    <tr>\n",
       "      <th>13</th>\n",
       "      <td>Daenerys Targaryen ALLIED_WITH House Stark of ...</td>\n",
       "      <td>63</td>\n",
       "      <td>2.374156</td>\n",
       "      <td>0.914835</td>\n",
       "    </tr>\n",
       "    <tr>\n",
       "      <th>20</th>\n",
       "      <td>Missandei SPOUSE Grey Worm</td>\n",
       "      <td>65</td>\n",
       "      <td>3.164443</td>\n",
       "      <td>0.959474</td>\n",
       "    </tr>\n",
       "    <tr>\n",
       "      <th>19</th>\n",
       "      <td>Tywin Lannister PARENT_OF Jaime Lannister</td>\n",
       "      <td>75</td>\n",
       "      <td>1.526644</td>\n",
       "      <td>0.821515</td>\n",
       "    </tr>\n",
       "    <tr>\n",
       "      <th>3</th>\n",
       "      <td>Sansa Stark SPOUSE Petyr Baelish</td>\n",
       "      <td>109</td>\n",
       "      <td>1.889828</td>\n",
       "      <td>0.868736</td>\n",
       "    </tr>\n",
       "    <tr>\n",
       "      <th>14</th>\n",
       "      <td>Daenerys Targaryen ALLIED_WITH House Lannister...</td>\n",
       "      <td>228</td>\n",
       "      <td>1.385445</td>\n",
       "      <td>0.799864</td>\n",
       "    </tr>\n",
       "    <tr>\n",
       "      <th>2</th>\n",
       "      <td>King's Landing SEAT_OF House Lannister of Cast...</td>\n",
       "      <td>723</td>\n",
       "      <td>0.590551</td>\n",
       "      <td>0.643492</td>\n",
       "    </tr>\n",
       "    <tr>\n",
       "      <th>8</th>\n",
       "      <td>House Tyrell of Highgarden IN_REGION Beyond th...</td>\n",
       "      <td>1180</td>\n",
       "      <td>0.196121</td>\n",
       "      <td>0.548874</td>\n",
       "    </tr>\n",
       "    <tr>\n",
       "      <th>17</th>\n",
       "      <td>Cersei Lannister PARENT_OF Myrcella Baratheon</td>\n",
       "      <td>1658</td>\n",
       "      <td>0.111916</td>\n",
       "      <td>0.527950</td>\n",
       "    </tr>\n",
       "    <tr>\n",
       "      <th>21</th>\n",
       "      <td>Brienne of Tarth SPOUSE Jaime Lannister</td>\n",
       "      <td>1938</td>\n",
       "      <td>-0.039279</td>\n",
       "      <td>0.490182</td>\n",
       "    </tr>\n",
       "    <tr>\n",
       "      <th>4</th>\n",
       "      <td>Daenerys Targaryen SPOUSE Jon Snow</td>\n",
       "      <td>2309</td>\n",
       "      <td>-0.099995</td>\n",
       "      <td>0.475022</td>\n",
       "    </tr>\n",
       "    <tr>\n",
       "      <th>7</th>\n",
       "      <td>House Stark of Winterfell IN_REGION Dorne</td>\n",
       "      <td>2504</td>\n",
       "      <td>-0.311249</td>\n",
       "      <td>0.422810</td>\n",
       "    </tr>\n",
       "    <tr>\n",
       "      <th>15</th>\n",
       "      <td>Jaime Lannister PARENT_OF Myrcella Baratheon</td>\n",
       "      <td>2817</td>\n",
       "      <td>-0.266177</td>\n",
       "      <td>0.433846</td>\n",
       "    </tr>\n",
       "    <tr>\n",
       "      <th>5</th>\n",
       "      <td>Daenerys Targaryen SPOUSE Craster</td>\n",
       "      <td>2936</td>\n",
       "      <td>-0.535700</td>\n",
       "      <td>0.369188</td>\n",
       "    </tr>\n",
       "    <tr>\n",
       "      <th>1</th>\n",
       "      <td>Tyrion Lannister SPOUSE Missandei</td>\n",
       "      <td>2977</td>\n",
       "      <td>-0.542989</td>\n",
       "      <td>0.367493</td>\n",
       "    </tr>\n",
       "    <tr>\n",
       "      <th>0</th>\n",
       "      <td>Jorah Mormont SPOUSE Daenerys Targaryen</td>\n",
       "      <td>3319</td>\n",
       "      <td>-0.859071</td>\n",
       "      <td>0.297533</td>\n",
       "    </tr>\n",
       "    <tr>\n",
       "      <th>11</th>\n",
       "      <td>Rhaegar Targaryen PARENT_OF Jon Snow</td>\n",
       "      <td>3374</td>\n",
       "      <td>-0.232268</td>\n",
       "      <td>0.442193</td>\n",
       "    </tr>\n",
       "    <tr>\n",
       "      <th>10</th>\n",
       "      <td>Brandon Stark ALLIED_WITH House Lannister of C...</td>\n",
       "      <td>3998</td>\n",
       "      <td>-2.925931</td>\n",
       "      <td>0.050887</td>\n",
       "    </tr>\n",
       "    <tr>\n",
       "      <th>18</th>\n",
       "      <td>Cersei Lannister PARENT_OF Brandon Stark</td>\n",
       "      <td>4079</td>\n",
       "      <td>-2.160659</td>\n",
       "      <td>0.103339</td>\n",
       "    </tr>\n",
       "  </tbody>\n",
       "</table>\n",
       "</div>"
      ],
      "text/plain": [
       "                                            statement  rank     score  \\\n",
       "9   Brandon Stark ALLIED_WITH House Stark of Winte...     1  6.629964   \n",
       "12  House Hutcheson SWORN_TO House Tyrell of Highg...     4  9.970954   \n",
       "6       House Stark of Winterfell IN_REGION The North    12  2.354563   \n",
       "16    Robert I Baratheon PARENT_OF Myrcella Baratheon    18  1.951342   \n",
       "13  Daenerys Targaryen ALLIED_WITH House Stark of ...    63  2.374156   \n",
       "20                         Missandei SPOUSE Grey Worm    65  3.164443   \n",
       "19          Tywin Lannister PARENT_OF Jaime Lannister    75  1.526644   \n",
       "3                    Sansa Stark SPOUSE Petyr Baelish   109  1.889828   \n",
       "14  Daenerys Targaryen ALLIED_WITH House Lannister...   228  1.385445   \n",
       "2   King's Landing SEAT_OF House Lannister of Cast...   723  0.590551   \n",
       "8   House Tyrell of Highgarden IN_REGION Beyond th...  1180  0.196121   \n",
       "17      Cersei Lannister PARENT_OF Myrcella Baratheon  1658  0.111916   \n",
       "21            Brienne of Tarth SPOUSE Jaime Lannister  1938 -0.039279   \n",
       "4                  Daenerys Targaryen SPOUSE Jon Snow  2309 -0.099995   \n",
       "7           House Stark of Winterfell IN_REGION Dorne  2504 -0.311249   \n",
       "15       Jaime Lannister PARENT_OF Myrcella Baratheon  2817 -0.266177   \n",
       "5                   Daenerys Targaryen SPOUSE Craster  2936 -0.535700   \n",
       "1                   Tyrion Lannister SPOUSE Missandei  2977 -0.542989   \n",
       "0             Jorah Mormont SPOUSE Daenerys Targaryen  3319 -0.859071   \n",
       "11               Rhaegar Targaryen PARENT_OF Jon Snow  3374 -0.232268   \n",
       "10  Brandon Stark ALLIED_WITH House Lannister of C...  3998 -2.925931   \n",
       "18           Cersei Lannister PARENT_OF Brandon Stark  4079 -2.160659   \n",
       "\n",
       "        prob  \n",
       "9   0.998681  \n",
       "12  0.999953  \n",
       "6   0.913296  \n",
       "16  0.875593  \n",
       "13  0.914835  \n",
       "20  0.959474  \n",
       "19  0.821515  \n",
       "3   0.868736  \n",
       "14  0.799864  \n",
       "2   0.643492  \n",
       "8   0.548874  \n",
       "17  0.527950  \n",
       "21  0.490182  \n",
       "4   0.475022  \n",
       "7   0.422810  \n",
       "15  0.433846  \n",
       "5   0.369188  \n",
       "1   0.367493  \n",
       "0   0.297533  \n",
       "11  0.442193  \n",
       "10  0.050887  \n",
       "18  0.103339  "
      ]
     },
     "execution_count": 14,
     "metadata": {},
     "output_type": "execute_result"
    }
   ],
   "source": [
    "X_unseen = np.array([\n",
    "    ['Jorah Mormont', 'SPOUSE', 'Daenerys Targaryen'],\n",
    "    ['Tyrion Lannister', 'SPOUSE', 'Missandei'],\n",
    "    [\"King's Landing\", 'SEAT_OF', 'House Lannister of Casterly Rock'],\n",
    "    ['Sansa Stark', 'SPOUSE', 'Petyr Baelish'],\n",
    "    ['Daenerys Targaryen', 'SPOUSE', 'Jon Snow'],\n",
    "    ['Daenerys Targaryen', 'SPOUSE', 'Craster'],\n",
    "    ['House Stark of Winterfell', 'IN_REGION', 'The North'],\n",
    "    ['House Stark of Winterfell', 'IN_REGION', 'Dorne'],\n",
    "    ['House Tyrell of Highgarden', 'IN_REGION', 'Beyond the Wall'],\n",
    "    ['Brandon Stark', 'ALLIED_WITH', 'House Stark of Winterfell'],\n",
    "    ['Brandon Stark', 'ALLIED_WITH', 'House Lannister of Casterly Rock'],    \n",
    "    ['Rhaegar Targaryen', 'PARENT_OF', 'Jon Snow'],\n",
    "    ['House Hutcheson', 'SWORN_TO', 'House Tyrell of Highgarden'],\n",
    "    ['Daenerys Targaryen', 'ALLIED_WITH', 'House Stark of Winterfell'],\n",
    "    ['Daenerys Targaryen', 'ALLIED_WITH', 'House Lannister of Casterly Rock'],\n",
    "    ['Jaime Lannister', 'PARENT_OF', 'Myrcella Baratheon'],\n",
    "    ['Robert I Baratheon', 'PARENT_OF', 'Myrcella Baratheon'],\n",
    "    ['Cersei Lannister', 'PARENT_OF', 'Myrcella Baratheon'],\n",
    "    ['Cersei Lannister', 'PARENT_OF', 'Brandon Stark'],\n",
    "    [\"Tywin Lannister\", 'PARENT_OF', 'Jaime Lannister'],\n",
    "    [\"Missandei\", 'SPOUSE', 'Grey Worm'],\n",
    "    [\"Brienne of Tarth\", 'SPOUSE', 'Jaime Lannister']\n",
    "])\n",
    "\n",
    "unseen_filter = np.array(list({tuple(i) for i in np.vstack((positives_filter, X_unseen))}))\n",
    "ranks_unseen = evaluate_performance(\n",
    "    X_unseen, \n",
    "    model=model, \n",
    "    filter_triples=unseen_filter,   # Corruption strategy filter defined above \n",
    "    corrupt_side = 's+o',\n",
    "    use_default_protocol=False, # corrupt subj and obj separately while evaluating\n",
    "    verbose=True\n",
    ")\n",
    "scores = model.predict(X_unseen)\n",
    "\n",
    "from scipy.special import expit\n",
    "probs = expit(scores)\n",
    "\n",
    "pd.DataFrame(list(zip([' '.join(x) for x in X_unseen], \n",
    "                      ranks_unseen, \n",
    "                      np.squeeze(scores),\n",
    "                      np.squeeze(probs))), \n",
    "             columns=['statement', 'rank', 'score', 'prob']).sort_values(\"rank\")"
   ]
  },
  {
   "cell_type": "code",
   "execution_count": null,
   "id": "ab121a5d-a038-4964-91bf-82efcef3ab73",
   "metadata": {},
   "outputs": [],
   "source": []
  }
 ],
 "metadata": {
  "kernelspec": {
   "display_name": "ampligraph",
   "language": "python",
   "name": "ampligraph"
  },
  "language_info": {
   "codemirror_mode": {
    "name": "ipython",
    "version": 3
   },
   "file_extension": ".py",
   "mimetype": "text/x-python",
   "name": "python",
   "nbconvert_exporter": "python",
   "pygments_lexer": "ipython3",
   "version": "3.7.11"
  }
 },
 "nbformat": 4,
 "nbformat_minor": 5
}
