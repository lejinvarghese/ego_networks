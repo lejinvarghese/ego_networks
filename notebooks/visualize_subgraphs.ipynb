{
 "cells": [
  {
   "cell_type": "markdown",
   "id": "a3d1a941-baa0-4632-9d85-2d50a078b552",
   "metadata": {
    "tags": []
   },
   "source": [
    "# **Network Visualiztion**\n"
   ]
  },
  {
   "cell_type": "markdown",
   "id": "5d7424cb-8074-4a72-bb11-6377f3fa12ac",
   "metadata": {
    "tags": []
   },
   "source": [
    "## **Imports**\n"
   ]
  },
  {
   "cell_type": "code",
   "execution_count": null,
   "id": "3f6e0365-a098-4b02-b113-d9742cd3b656",
   "metadata": {},
   "outputs": [],
   "source": [
    "import os\n",
    "import sys\n",
    "from warnings import filterwarnings\n",
    "import matplotlib.pyplot as plt\n",
    "from pathlib import Path\n",
    "from dotenv import load_dotenv\n",
    "\n",
    "%matplotlib inline\n",
    "%load_ext autotime\n",
    "\n",
    "load_dotenv()\n",
    "filterwarnings(\"ignore\")\n",
    "\n",
    "module_path = os.path.abspath(os.path.join(\"../\"))\n",
    "parent_dir = os.path.dirname(os.getcwd())\n",
    "if module_path not in sys.path:\n",
    "    sys.path.append(module_path)"
   ]
  },
  {
   "cell_type": "code",
   "execution_count": null,
   "id": "52d5128e-30c9-42fa-a9ee-fa03fcbe54f3",
   "metadata": {},
   "outputs": [],
   "source": [
    "import tweepy\n",
    "import numpy as np\n",
    "import pandas as pd\n",
    "import dask.dataframe as dd\n",
    "import ast\n",
    "from scipy.stats import gmean\n",
    "import networkx as nx\n",
    "import seaborn as sns\n",
    "from utils.graph import get_ego_graph, draw_nx_graph, draw_plotly_graph\n",
    "\n",
    "PATH = os.getcwd()\n",
    "PROJECT = str(Path(PATH).parents[0])\n",
    "TWITTER_USERNAME = os.getenv(\"TWITTER_USERNAME\")\n",
    "TWITTER_API_KEY = os.getenv(\"TWITTER_API_KEY\")\n",
    "TWITTER_API_SECRET = os.getenv(\"TWITTER_API_SECRET\")\n",
    "TWITTER_API_BEARER_TOKEN = os.getenv(\"TWITTER_API_BEARER_TOKEN\")\n",
    "CLOUD_STORAGE_BUCKET = os.getenv(\"CLOUD_STORAGE_BUCKET\")\n",
    "\n",
    "client = tweepy.Client(TWITTER_API_BEARER_TOKEN, wait_on_rate_limit=True)"
   ]
  },
  {
   "cell_type": "markdown",
   "id": "e95c3d6d-03cf-4f8f-a000-79c77b78a754",
   "metadata": {
    "tags": []
   },
   "source": [
    "## **Read**\n"
   ]
  },
  {
   "cell_type": "markdown",
   "id": "4d5d3628-11ac-4f68-8c6c-11f6f4c6516b",
   "metadata": {
    "tags": []
   },
   "source": [
    "### **Node Centrality (Subset)**\n"
   ]
  },
  {
   "cell_type": "code",
   "execution_count": null,
   "id": "d6bd5132-a88d-4cdc-97d4-d936d8d3e659",
   "metadata": {},
   "outputs": [],
   "source": [
    "df_cen = dd.read_csv(f\"{CLOUD_STORAGE_BUCKET}/measures/node/node_measures.csv\").compute()\n",
    "print(df_cen.shape)\n",
    "df_cen.head()"
   ]
  },
  {
   "cell_type": "markdown",
   "id": "91e8a633-4d87-4cbf-8f69-c33f3ab8ea17",
   "metadata": {
    "tags": []
   },
   "source": [
    "### **Node Features**\n"
   ]
  },
  {
   "cell_type": "code",
   "execution_count": null,
   "id": "124dce70-90c4-4ce0-a6ad-ed0275c43766",
   "metadata": {},
   "outputs": [],
   "source": [
    "nodes = dd.read_csv(f\"{CLOUD_STORAGE_BUCKET}/features/node/node_features*.csv\", dtype={'withheld': 'object'}).compute()\n",
    "print(nodes.shape)\n",
    "nodes.head()"
   ]
  },
  {
   "cell_type": "markdown",
   "id": "af89e82e-cceb-44e2-b185-0b130f3a3368",
   "metadata": {
    "tags": []
   },
   "source": [
    "### **Graph**\n"
   ]
  },
  {
   "cell_type": "code",
   "execution_count": null,
   "id": "f65f8e1f-8110-4ef4-9e28-dbce7d248f2d",
   "metadata": {},
   "outputs": [],
   "source": [
    "df = dd.read_csv(f\"{CLOUD_STORAGE_BUCKET}/ties/ties*.csv\").compute()\n",
    "df.following = df.following.apply(ast.literal_eval)\n",
    "df = df.explode('following')\n",
    "\n",
    "#if you need a full graph including the user\n",
    "user = client.get_user(\n",
    "    username=TWITTER_USERNAME,\n",
    "    user_fields=[\"id\"],\n",
    ").data.id\n",
    "df_following = df.copy().dropna()\n",
    "df_user = pd.DataFrame({\"user\": user, \"following\": df_following.user.unique()})\n",
    "df_with_user = pd.concat([df_user, df_following])\n",
    "\n",
    "#create  a graph\n",
    "edges = df_with_user.copy().dropna()\n",
    "edges.columns = ['source', 'target']\n",
    "edges['source'] = edges['source'].astype(int)\n",
    "edges['target'] = edges['target'].astype(int)\n",
    "edges['weight'] = 1\n",
    "print(df.shape, edges.shape)\n",
    "\n",
    "G = nx.from_pandas_edgelist(\n",
    "    edges,\n",
    "    create_using=nx.DiGraph(),\n",
    "    edge_attr=True\n",
    ")\n",
    "print(f\"Nodes: {len(G.nodes())}, Edges: {len(G.edges())}\")\n",
    "print(f\"Average Clustering: {round(nx.average_clustering(G), 3)}\")"
   ]
  },
  {
   "cell_type": "markdown",
   "id": "5f2301fc-0fbb-4944-b97b-c22d5e532cef",
   "metadata": {
    "tags": []
   },
   "source": [
    "## **Explore Images**\n"
   ]
  },
  {
   "cell_type": "code",
   "execution_count": null,
   "id": "0f8827e3-f13f-46ef-a8d0-01e6961a518c",
   "metadata": {},
   "outputs": [],
   "source": [
    "!pip install imageio"
   ]
  },
  {
   "cell_type": "code",
   "execution_count": null,
   "id": "f4fada6b-272b-452f-bf72-b99a85790c11",
   "metadata": {},
   "outputs": [],
   "source": [
    "import urllib.request as urllib2\n",
    "from imageio import imread\n",
    "import matplotlib.pyplot as plt\n",
    "\n",
    "url = nodes.sample(1).profile_image_url.iloc[0] #_400x400\n",
    "print(url)\n",
    "# plt.figure(figsize = (2,2))\n",
    "a =  imread(url, format='jpg')\n",
    "plt.imshow(a, interpolation='nearest')\n",
    "plt.show()"
   ]
  },
  {
   "cell_type": "code",
   "execution_count": null,
   "id": "6e195966-7b22-488c-894a-63ae651843be",
   "metadata": {},
   "outputs": [],
   "source": [
    "import networkx as nx\n",
    "import matplotlib.pyplot as plt\n",
    "import matplotlib.image as mpimg\n",
    "import glob\n",
    "from numpy import sqrt\n",
    "import glob\n",
    "\n",
    "path = ''\n",
    "\n",
    "N = 10\n",
    "files = list(nodes.sample(N).profile_image_url)\n",
    "img = []\n",
    "\n",
    "img_size = 200\n",
    "for f in files:\n",
    "    f = f.replace('_normal', f'_{img_size}x{img_size}')\n",
    "    try:\n",
    "        img.append(imread(f))\n",
    "    except:\n",
    "        continue\n",
    "N = len(img)\n",
    "\n",
    "# generate graph\n",
    "G = nx.watts_strogatz_graph(N,4,0.2)\n",
    "pos=nx.spring_layout(G,k=3/sqrt(N))\n",
    "\n",
    "# draw with images on nodes\n",
    "nx.draw_networkx(G,pos,width=3,edge_color=\"r\",alpha=0.6)\n",
    "\n",
    "# plt.figure(figsize = (10,10))\n",
    "ax=plt.gca()\n",
    "fig=plt.gcf()\n",
    "\n",
    "fig.set_size_inches(20, 10)\n",
    "trans = ax.transData.transform\n",
    "trans2 = fig.transFigure.inverted().transform\n",
    "imsize = 0.1 # this is the image size\n",
    "for n in G.nodes():\n",
    "    (x,y) = pos[n]\n",
    "    xx,yy = trans((x,y)) # figure coordinates\n",
    "    xa,ya = trans2((xx,yy)) # axes coordinates\n",
    "    a = plt.axes([xa-imsize/2.0,ya-imsize/2.0, imsize, imsize ])\n",
    "    a.imshow(img[n])\n",
    "    a.set_aspect('equal')\n",
    "    a.axis('off')\n",
    "plt.savefig('./save.png') "
   ]
  },
  {
   "cell_type": "markdown",
   "id": "68c16362-77f7-4dc7-9bb5-7935e782bbe3",
   "metadata": {
    "tags": []
   },
   "source": [
    "## **Explore**\n"
   ]
  },
  {
   "cell_type": "code",
   "execution_count": null,
   "id": "b75b4770-baa7-49b0-b1c4-43f789fa2299",
   "metadata": {
    "tags": []
   },
   "outputs": [],
   "source": [
    "G_s, _, _ = get_ego_graph(G, node=user)\n",
    "\n",
    "node_labels_dict = dict(zip(nodes['id'], nodes['name']))\n",
    "nx.set_node_attributes(G_s, node_labels_dict, \"name\")\n",
    "node_labels = list(nx.get_node_attributes(G_s, \"name\").values())\n",
    "\n",
    "print(f\"{user}\")\n",
    "print(f\"Nodes: {len(G_s.nodes())}, Edges: {len(G_s.edges())}\")\n",
    "# print(f\"Average Clustering: {round(nx.average_clustering(G_s), 3)}\")\n",
    "draw_nx_graph(G_s, fig_size  = (20, 20), font_size = 10, node_size = 500, linewidths = 3, width = 0.5, alpha = 0.8)"
   ]
  },
  {
   "cell_type": "markdown",
   "id": "f0163168-3c26-4aa2-9e02-119787d76097",
   "metadata": {
    "jp-MarkdownHeadingCollapsed": true,
    "tags": []
   },
   "source": [
    "## **Explore Pyvis**\n"
   ]
  },
  {
   "cell_type": "code",
   "execution_count": null,
   "id": "e74ac965-f111-4566-bba9-e5a2de78647c",
   "metadata": {},
   "outputs": [],
   "source": [
    "from pyvis import network as py_net\n",
    "\n",
    "g = py_net.Network(notebook = True)\n",
    "g.from_nx(G_s)\n",
    "g.show_buttons(filter_=['nodes', 'edges', 'physics'])\n",
    "g.show('graph.html')"
   ]
  },
  {
   "cell_type": "markdown",
   "id": "39ef5bd4-7548-45ee-b361-a8de39967e9b",
   "metadata": {
    "tags": []
   },
   "source": [
    "## **Explore Plotly**\n"
   ]
  },
  {
   "cell_type": "code",
   "execution_count": null,
   "id": "eae032d8-4e18-452a-a7e9-1f87b7926821",
   "metadata": {},
   "outputs": [],
   "source": [
    "nodes[nodes.id.isin([440506882, 16163627, 3257368988, 1720046887, 110445334])].head()"
   ]
  },
  {
   "cell_type": "code",
   "execution_count": null,
   "id": "1edf04f1-4283-497e-bdd3-674006ed84d1",
   "metadata": {},
   "outputs": [],
   "source": [
    "n_ = nodes.set_index('id').copy()\n",
    "n_.public_metrics = n_.public_metrics.map(eval)\n",
    "n_ = n_['public_metrics'].apply(pd.Series)\n",
    "t_ = df_cen[df_cen.measure_name=='hubs'].set_index('node')\n",
    "t_= t_.merge(n_, left_index = True, right_index = True).sort_values(by='measure_value', ascending=False)\n",
    "t_.head()"
   ]
  },
  {
   "cell_type": "code",
   "execution_count": null,
   "id": "68c9f195-e32c-404f-9c21-1f0909794aad",
   "metadata": {},
   "outputs": [],
   "source": [
    "import networkx as nx\n",
    "import plotly.graph_objects as go\n",
    "def draw_plotly_graph(\n",
    "    graph=None,\n",
    "    edge_labels=None,\n",
    "    node_labels=None,\n",
    "    pos=None,\n",
    "    node_colors=None,\n",
    "    node_sizes=None,\n",
    "    write_html=False,\n",
    "    title=None,\n",
    "    fig_size_px=(800, 800),\n",
    "    hide_color_axis=True,\n",
    "):\n",
    "    edge_x = []\n",
    "    edge_y = []\n",
    "    widths = []\n",
    "    pos = nx.spring_layout(graph, threshold=1e-4, iterations=100)\n",
    "    pos=nx.rescale_layout_dict(pos)\n",
    "    c_ev = nx.eigenvector_centrality(graph)\n",
    "    edge_trace =  [dict(type='scatter',\n",
    "                   x=[pos[e[0]][0], pos[e[1]][0], None],\n",
    "                   y=[pos[e[0]][1], pos[e[1]][1], None],\n",
    "                   mode='lines',\n",
    "                   line=dict(width=0.05, color=\"#888\",smoothing=0.2,simplify=True,shape=\"spline\")) for e in graph.edges(data=True)]\n",
    "\n",
    "    node_x = []\n",
    "    node_y = []\n",
    "    for node in graph.nodes():\n",
    "        x, y = pos[node]\n",
    "        node_x.append(x)\n",
    "        node_y.append(y)\n",
    "\n",
    "    node_trace = go.Scatter(\n",
    "        x=node_x,\n",
    "        y=node_y,\n",
    "        mode=\"markers\",\n",
    "        hoverinfo=\"text\",\n",
    "        marker=dict(\n",
    "            showscale=True,\n",
    "            colorscale=\"YlOrRd\",\n",
    "            reversescale=False,\n",
    "            color=[],\n",
    "            size=10,\n",
    "            colorbar=dict(thickness=5, xanchor=\"left\", titleside=\"right\"),\n",
    "            line_width=0.0,\n",
    "        ),\n",
    "    )\n",
    "\n",
    "    # color nodes\n",
    "    if node_labels:\n",
    "        _node_labels = node_labels\n",
    "    else:\n",
    "        node_adjacencies = []\n",
    "        _node_labels = []\n",
    "        for node, adjacencies in enumerate(graph.adjacency()):\n",
    "            node_adjacencies.append(len(adjacencies[1]))\n",
    "            _node_labels.append(\n",
    "                \"adjacent connections: \" + str(len(adjacencies[1]))\n",
    "            )\n",
    "    node_trace.text = _node_labels\n",
    "\n",
    "    if node_colors == \"default\":\n",
    "        _node_colors = [1e2 * x for x in list(c_ev.values())]\n",
    "    else:\n",
    "        _node_colors = node_colors\n",
    "    for i, k in enumerate(c_ev.keys()):\n",
    "        if k in list(e_users_p.keys()):\n",
    "            _node_colors[i] = \"black\"\n",
    "    node_trace.marker.color = _node_colors\n",
    "\n",
    "    if node_sizes == \"default\":\n",
    "        _node_sizes = [1e2 * x for x in list(c_ev.values())]\n",
    "    else:\n",
    "        _node_sizes = node_sizes\n",
    "    node_trace.marker.size = _node_sizes\n",
    "\n",
    "    # create plot\n",
    "    fig = go.Figure(\n",
    "        # data=[edge_trace, node_trace],\n",
    "        data = edge_trace+[node_trace],\n",
    "        layout=go.Layout(\n",
    "            title={\n",
    "                \"text\": title,\n",
    "                \"font_size\": 16,\n",
    "                \"x\": 0.5,\n",
    "                \"xanchor\": \"center\",\n",
    "                \"yanchor\": \"top\",  # new\n",
    "            },\n",
    "            showlegend=False,\n",
    "            hovermode=\"closest\",\n",
    "            margin=dict(b=20, l=5, r=5, t=40),\n",
    "            width=fig_size_px[0],\n",
    "            height=fig_size_px[1],\n",
    "            xaxis=dict(showgrid=False, zeroline=False, showticklabels=False),\n",
    "            yaxis=dict(showgrid=False, zeroline=False, showticklabels=False),\n",
    "        ),\n",
    "    )\n",
    "    if hide_color_axis:\n",
    "        fig.update_coloraxes(showscale=False)\n",
    "\n",
    "    fig.show()\n",
    "\n",
    "    if write_html:\n",
    "        fig.write_html(\"first_degree_test.html\", auto_open=True)"
   ]
  },
  {
   "cell_type": "code",
   "execution_count": null,
   "id": "b0c4adff-1ecd-436a-9183-44ac5771fdcf",
   "metadata": {},
   "outputs": [],
   "source": [
    "e_users = list(t_.head(10).index)\n",
    "e_users"
   ]
  },
  {
   "cell_type": "code",
   "execution_count": null,
   "id": "1a4b3b26-2cfc-42bb-b505-55087bdb5b21",
   "metadata": {
    "tags": []
   },
   "outputs": [],
   "source": [
    "# e_users = [440506882]#, 106204123, 78683448]\n",
    "e_sub_graphs = []\n",
    "for i in e_users: \n",
    "    print(f\"{i}: {nodes[nodes.id==i].name}\")\n",
    "    e_sub_graphs.append(get_ego_graph(G, node=i)[0])\n",
    "\n",
    "G_s = nx.compose_all(e_sub_graphs)\n",
    "\n",
    "dangler_nodes = [node for node, degree in dict(G_s.degree()).items() if degree <= 10]\n",
    "G_s.remove_nodes_from(dangler_nodes)\n",
    "\n",
    "node_labels_dict = dict(zip(nodes['id'], nodes['name']))\n",
    "nx.set_node_attributes(G_s, node_labels_dict, \"name\")\n",
    "node_labels = list(nx.get_node_attributes(G_s, \"name\").values())\n",
    "\n",
    "print(f\"Nodes: {len(G_s.nodes())}, Edges: {len(G_s.edges())}\")\n",
    "draw_plotly_graph(G_s, node_sizes = 'default', node_labels=node_labels,node_colors='default', title='Twitter Ego Network')"
   ]
  },
  {
   "cell_type": "markdown",
   "id": "ff941008-7b5b-4d9e-a406-b94e2d70c9fe",
   "metadata": {
    "tags": []
   },
   "source": [
    "## **Communities**"
   ]
  },
  {
   "cell_type": "code",
   "execution_count": null,
   "id": "eed28483-cf42-4b86-bb6b-b00da7fc507c",
   "metadata": {},
   "outputs": [],
   "source": [
    "from community import community_louvain, generate_dendrogram, best_partition, induced_graph, modularity, partition_at_level\n",
    "community_dict = community_louvain.best_partition(G_s.to_undirected(), random_state=42)\n",
    "n_communities = pd.Series(community_dict.values()).nunique()\n",
    "print(f\"Communities at best partition: {n_communities}\")\n",
    "custom_colors = ['rgb(44,105,176)',\n",
    "                 'rgb(240,39,32)',\n",
    "                 'rgb(172,97,60)',\n",
    "                 'rgb(107,163,214)',\n",
    "                 'rgb(234,107,115)',\n",
    "                 'rgb(65,68,81)'\n",
    "                ]\n",
    "\n",
    "custom_colors = np.resize(custom_colors, n_communities)"
   ]
  },
  {
   "cell_type": "code",
   "execution_count": null,
   "id": "0eff6f0f-683a-493b-a36a-fa2a59a8c8c8",
   "metadata": {},
   "outputs": [],
   "source": [
    "nx.set_node_attributes(G_s, community_dict, \"community\")\n",
    "node_community_map = list(nx.get_node_attributes(G_s, \"community\").values())\n",
    "node_colors = [custom_colors[x] for x in node_community_map]"
   ]
  },
  {
   "cell_type": "code",
   "execution_count": null,
   "id": "09176da6-52ff-4129-a599-84152c8ef5da",
   "metadata": {},
   "outputs": [],
   "source": [
    "draw_plotly_graph(G_s, node_labels=node_labels, node_colors=node_colors, title='Twitter Ego Network', hide_color_axis=False, node_sizes = 12)"
   ]
  },
  {
   "cell_type": "code",
   "execution_count": null,
   "id": "0eccc6f0-7e04-4c6c-b7fb-16864cd909e5",
   "metadata": {},
   "outputs": [],
   "source": [
    "G_den = generate_dendrogram(G_s.to_undirected())\n",
    "G_den = partition_at_level(G_den, len(G_den)-1)\n",
    "\n",
    "G_part = best_partition(G_s.to_undirected(), random_state= 42)\n",
    "G_s_c = induced_graph(G_part, G_s.to_undirected())\n",
    "print(modularity(G_part, G_s.to_undirected()))"
   ]
  },
  {
   "cell_type": "code",
   "execution_count": null,
   "id": "c851feb7-cddb-4783-938d-be9fc341d013",
   "metadata": {},
   "outputs": [],
   "source": [
    "# nodes_exp = nodes.copy()\n",
    "# nodes_exp['community'] = nodes_exp['id'].apply(lambda x: G_part.get(x))\n",
    "# TWITTER_NAME = nodes_exp[nodes_exp.username==TWITTER_USERNAME].name.unique()[0]\n",
    "# nodes_exp['name'] = nodes_exp['name'].apply(lambda x: \"<obf: name>\" if x==TWITTER_NAME else str(x).lower())\n",
    "\n",
    "# for n in range(n_communities):\n",
    "#     print(f\"\\ncommunity {n}:\")\n",
    "#     comm_node_names = nodes_exp[nodes_exp.community==n].sort_values(by=['followers_count','tweet_count'], ascending=False).name.tolist()\n",
    "#     print(*comm_node_names,sep='\\n')"
   ]
  },
  {
   "cell_type": "code",
   "execution_count": null,
   "id": "f5f4fd76-6d3f-40b7-8feb-0aec7899348f",
   "metadata": {},
   "outputs": [],
   "source": [
    "scale_factor = 50\n",
    "e_weights_data = pd.DataFrame(nx.get_edge_attributes(G_s_c, \"weight\"), index=[0]).T\n",
    "e_weights_data.columns = ['weight']\n",
    "e_weights_data=e_weights_data.reset_index()\n",
    "e_weights_data['total_weight'] = e_weights_data.groupby('level_0').weight.transform('sum')\n",
    "e_weights_data['weight'] = np.power(e_weights_data['weight']/e_weights_data['total_weight'], 1)\n",
    "e_weights_data['weight'] = scale_factor*(e_weights_data['weight']/e_weights_data['weight'].max())\n",
    "\n",
    "# edge_weights = list(nx.get_edge_attributes(G_s_c, \"weight\").values())\n",
    "# edge_weights = [50*x/max(edge_weights) for x in edge_weights]\n",
    "edge_weights = list(e_weights_data.weight)\n",
    "comm_labels = {0: 'misc', 1: 'ai', 2: 'political_outcasts', 3: 'space_cowboys', 4: 'spread_the_love_authors'}\n",
    "\n",
    "G_s_c_rl = nx.relabel_nodes(G_s_c, comm_labels, copy=True)\n",
    "draw_nx_graph(G_s_c_rl, node_labels=True, width =  edge_weights, node_label_font_color = 'black', node_size = 4000, font_size = 20, alpha=1)"
   ]
  },
  {
   "cell_type": "code",
   "execution_count": null,
   "id": "1ecc71f5-51cb-4d98-bc92-7c30c85b130d",
   "metadata": {},
   "outputs": [],
   "source": [
    "draw_plotly_graph(G_s_c, node_sizes = 20, node_colors = list(custom_colors))"
   ]
  }
 ],
 "metadata": {
  "kernelspec": {
   "display_name": "Python 3 (ipykernel)",
   "language": "python",
   "name": "python3"
  },
  "language_info": {
   "codemirror_mode": {
    "name": "ipython",
    "version": 3
   },
   "file_extension": ".py",
   "mimetype": "text/x-python",
   "name": "python",
   "nbconvert_exporter": "python",
   "pygments_lexer": "ipython3",
   "version": "3.9.7"
  }
 },
 "nbformat": 4,
 "nbformat_minor": 5
}
