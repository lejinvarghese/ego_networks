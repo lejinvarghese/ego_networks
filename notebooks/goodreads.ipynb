{
 "cells": [
  {
   "cell_type": "markdown",
   "id": "d34e253f-38b6-4c1a-90b9-f3b2dea98ae8",
   "metadata": {
    "tags": []
   },
   "source": [
    "# **Goodreads Neighborhood**\n"
   ]
  },
  {
   "cell_type": "markdown",
   "id": "1779ee87-4c92-4eb0-b1cf-034c9eeb0eac",
   "metadata": {
    "tags": []
   },
   "source": [
    "## **Imports**\n"
   ]
  },
  {
   "cell_type": "code",
   "execution_count": 1,
   "id": "5d09a454-c004-44a1-b474-72a9a8f476f9",
   "metadata": {},
   "outputs": [
    {
     "name": "stdout",
     "output_type": "stream",
     "text": [
      "time: 9.42 ms (started: 2022-12-25 16:14:04 -05:00)\n"
     ]
    }
   ],
   "source": [
    "import os\n",
    "import sys\n",
    "from warnings import filterwarnings\n",
    "import matplotlib.pyplot as plt\n",
    "from pathlib import Path\n",
    "from dotenv import load_dotenv\n",
    "\n",
    "%matplotlib inline\n",
    "%load_ext autotime\n",
    "\n",
    "load_dotenv()\n",
    "filterwarnings(\"ignore\")\n",
    "\n",
    "module_path = os.path.abspath(os.path.join(\"../\"))\n",
    "parent_dir = os.path.dirname(os.getcwd())\n",
    "if module_path not in sys.path:\n",
    "    sys.path.append(module_path)"
   ]
  },
  {
   "cell_type": "code",
   "execution_count": 2,
   "id": "19a83aeb-f271-46b2-a54b-15e9aab3d970",
   "metadata": {},
   "outputs": [
    {
     "name": "stdout",
     "output_type": "stream",
     "text": [
      "time: 3.12 s (started: 2022-12-25 16:14:04 -05:00)\n"
     ]
    }
   ],
   "source": [
    "import pandas as pd\n",
    "import ast\n",
    "import networkx as nx\n",
    "\n",
    "import requests\n",
    "from bs4 import BeautifulSoup\n",
    "import re\n",
    "from urllib.parse import urljoin\n",
    "\n",
    "PATH = os.getcwd()\n",
    "PROJECT = str(Path(PATH).parents[0])\n",
    "CLOUD_STORAGE_BUCKET = os.getenv(\"CLOUD_STORAGE_BUCKET\")"
   ]
  },
  {
   "cell_type": "markdown",
   "id": "a1191faa-1460-4b9d-8658-801074c6fd48",
   "metadata": {
    "tags": []
   },
   "source": [
    "## **Read**\n"
   ]
  },
  {
   "cell_type": "code",
   "execution_count": 3,
   "id": "979fbdfd-8468-4497-a9b6-acf5c7c40ee8",
   "metadata": {},
   "outputs": [
    {
     "name": "stdout",
     "output_type": "stream",
     "text": [
      "Requirement already satisfied: lxml in /media/starscream/wheeljack/projects/ego_networks/.venv/lib/python3.8/site-packages (4.9.2)\n",
      "\u001b[33mWARNING: You are using pip version 20.1.1; however, version 22.3.1 is available.\n",
      "You should consider upgrading via the '/media/starscream/wheeljack/projects/ego_networks/.venv/bin/python3 -m pip install --upgrade pip' command.\u001b[0m\n",
      "time: 1.49 s (started: 2022-12-24 16:42:01 -05:00)\n"
     ]
    }
   ],
   "source": [
    "!{sys.executable} -m pip install lxml"
   ]
  },
  {
   "cell_type": "code",
   "execution_count": 3,
   "id": "28fa9b93-7ee5-40e0-92ca-af73c99038b3",
   "metadata": {},
   "outputs": [
    {
     "data": {
      "text/html": [
       "<div>\n",
       "<style scoped>\n",
       "    .dataframe tbody tr th:only-of-type {\n",
       "        vertical-align: middle;\n",
       "    }\n",
       "\n",
       "    .dataframe tbody tr th {\n",
       "        vertical-align: top;\n",
       "    }\n",
       "\n",
       "    .dataframe thead th {\n",
       "        text-align: right;\n",
       "    }\n",
       "</style>\n",
       "<table border=\"1\" class=\"dataframe\">\n",
       "  <thead>\n",
       "    <tr style=\"text-align: right;\">\n",
       "      <th></th>\n",
       "      <th>title</th>\n",
       "      <th>author</th>\n",
       "      <th>date</th>\n",
       "    </tr>\n",
       "  </thead>\n",
       "  <tbody>\n",
       "    <tr>\n",
       "      <th>3</th>\n",
       "      <td>surface detail  (culture, #9)</td>\n",
       "      <td>banks, iain m.</td>\n",
       "      <td>2022-11-13</td>\n",
       "    </tr>\n",
       "    <tr>\n",
       "      <th>6</th>\n",
       "      <td>statistical rethinking: a bayesian course with...</td>\n",
       "      <td>mcelreath, richard</td>\n",
       "      <td>2022-09-24</td>\n",
       "    </tr>\n",
       "    <tr>\n",
       "      <th>2</th>\n",
       "      <td>novacene: the coming age of hyperintelligence</td>\n",
       "      <td>lovelock, james e.</td>\n",
       "      <td>2022-09-10</td>\n",
       "    </tr>\n",
       "    <tr>\n",
       "      <th>0</th>\n",
       "      <td>introducing game theory: a graphic guide</td>\n",
       "      <td>pastine, ivan</td>\n",
       "      <td>2022-09-03</td>\n",
       "    </tr>\n",
       "    <tr>\n",
       "      <th>1</th>\n",
       "      <td>the spy and the traitor: the greatest espionag...</td>\n",
       "      <td>macintyre, ben</td>\n",
       "      <td>2022-08-28</td>\n",
       "    </tr>\n",
       "    <tr>\n",
       "      <th>25</th>\n",
       "      <td>the irrational ape: why flawed logic puts us a...</td>\n",
       "      <td>grimes, david robert</td>\n",
       "      <td>2022-08-14</td>\n",
       "    </tr>\n",
       "    <tr>\n",
       "      <th>15</th>\n",
       "      <td>atomic habits: an easy &amp; proven way to build g...</td>\n",
       "      <td>clear, james</td>\n",
       "      <td>2022-07-24</td>\n",
       "    </tr>\n",
       "    <tr>\n",
       "      <th>4</th>\n",
       "      <td>the manager's path: a guide for tech leaders n...</td>\n",
       "      <td>fournier, camille</td>\n",
       "      <td>2022-06-25</td>\n",
       "    </tr>\n",
       "    <tr>\n",
       "      <th>22</th>\n",
       "      <td>emotions revealed: recognizing faces and feeli...</td>\n",
       "      <td>ekman, paul</td>\n",
       "      <td>2022-06-19</td>\n",
       "    </tr>\n",
       "    <tr>\n",
       "      <th>11</th>\n",
       "      <td>the unicorn project</td>\n",
       "      <td>kim, gene</td>\n",
       "      <td>2022-05-05</td>\n",
       "    </tr>\n",
       "  </tbody>\n",
       "</table>\n",
       "</div>"
      ],
      "text/plain": [
       "                                                title                author  \\\n",
       "3                       surface detail  (culture, #9)        banks, iain m.   \n",
       "6   statistical rethinking: a bayesian course with...    mcelreath, richard   \n",
       "2       novacene: the coming age of hyperintelligence    lovelock, james e.   \n",
       "0            introducing game theory: a graphic guide         pastine, ivan   \n",
       "1   the spy and the traitor: the greatest espionag...        macintyre, ben   \n",
       "25  the irrational ape: why flawed logic puts us a...  grimes, david robert   \n",
       "15  atomic habits: an easy & proven way to build g...         clear, james    \n",
       "4   the manager's path: a guide for tech leaders n...     fournier, camille   \n",
       "22  emotions revealed: recognizing faces and feeli...           ekman, paul   \n",
       "11                                the unicorn project             kim, gene   \n",
       "\n",
       "         date  \n",
       "3  2022-11-13  \n",
       "6  2022-09-24  \n",
       "2  2022-09-10  \n",
       "0  2022-09-03  \n",
       "1  2022-08-28  \n",
       "25 2022-08-14  \n",
       "15 2022-07-24  \n",
       "4  2022-06-25  \n",
       "22 2022-06-19  \n",
       "11 2022-05-05  "
      ]
     },
     "execution_count": 3,
     "metadata": {},
     "output_type": "execute_result"
    },
    {
     "name": "stdout",
     "output_type": "stream",
     "text": [
      "time: 1.78 s (started: 2022-12-25 16:14:10 -05:00)\n"
     ]
    }
   ],
   "source": [
    "base_site = \"https://www.goodreads.com/review/list/126744914?per_page=infinite&shelf=read\" \n",
    "r = requests.get(base_site)\n",
    "df_list = pd.read_html(r.text)\n",
    "df_read = df_list[-1].copy()\n",
    "df_read[\"title\"] = df_read[\"title\"].apply(lambda x: re.sub(\"^(title )\", \"\", x).lower())\n",
    "df_read[\"author\"] = df_read[\"author\"].apply(lambda x: re.sub(\"(^author )|( \\*$)\", \"\", x).lower())\n",
    "df_read[\"date\"] = pd.to_datetime(df_read[\"read\"].apply(lambda x: re.sub(\"^(date read )\", \"\", x)))\n",
    "cols = [\"title\", \"author\", \"date\"]\n",
    "df_read = df_read[cols].sort_values(by=\"date\", ascending=False)\n",
    "df_read.head(10)"
   ]
  },
  {
   "cell_type": "code",
   "execution_count": 4,
   "id": "70f7c324-255a-4d79-b483-206f981f08b9",
   "metadata": {},
   "outputs": [
    {
     "data": {
      "text/html": [
       "<div>\n",
       "<style scoped>\n",
       "    .dataframe tbody tr th:only-of-type {\n",
       "        vertical-align: middle;\n",
       "    }\n",
       "\n",
       "    .dataframe tbody tr th {\n",
       "        vertical-align: top;\n",
       "    }\n",
       "\n",
       "    .dataframe thead th {\n",
       "        text-align: right;\n",
       "    }\n",
       "</style>\n",
       "<table border=\"1\" class=\"dataframe\">\n",
       "  <thead>\n",
       "    <tr style=\"text-align: right;\">\n",
       "      <th></th>\n",
       "      <th>title</th>\n",
       "      <th>author</th>\n",
       "      <th>date</th>\n",
       "    </tr>\n",
       "  </thead>\n",
       "  <tbody>\n",
       "    <tr>\n",
       "      <th>0</th>\n",
       "      <td>Dive Into Design Patterns</td>\n",
       "      <td>Shvets, Alexander</td>\n",
       "      <td>2022-09-28</td>\n",
       "    </tr>\n",
       "    <tr>\n",
       "      <th>1</th>\n",
       "      <td>Deep Reinforcement Learning with Python: Maste...</td>\n",
       "      <td>Ravichandiran, Sudharsan</td>\n",
       "      <td>2022-09-24</td>\n",
       "    </tr>\n",
       "    <tr>\n",
       "      <th>2</th>\n",
       "      <td>Information Retrieval: Implementing and Evalua...</td>\n",
       "      <td>Büttcher, Stefan</td>\n",
       "      <td>2022-07-27</td>\n",
       "    </tr>\n",
       "    <tr>\n",
       "      <th>3</th>\n",
       "      <td>Guns, Germs, and Steel: The Fates of Human Soc...</td>\n",
       "      <td>Diamond, Jared</td>\n",
       "      <td>2022-07-10</td>\n",
       "    </tr>\n",
       "  </tbody>\n",
       "</table>\n",
       "</div>"
      ],
      "text/plain": [
       "                                               title  \\\n",
       "0                          Dive Into Design Patterns   \n",
       "1  Deep Reinforcement Learning with Python: Maste...   \n",
       "2  Information Retrieval: Implementing and Evalua...   \n",
       "3  Guns, Germs, and Steel: The Fates of Human Soc...   \n",
       "\n",
       "                     author       date  \n",
       "0        Shvets, Alexander  2022-09-28  \n",
       "1  Ravichandiran, Sudharsan 2022-09-24  \n",
       "2          Büttcher, Stefan 2022-07-27  \n",
       "3            Diamond, Jared 2022-07-10  "
      ]
     },
     "execution_count": 4,
     "metadata": {},
     "output_type": "execute_result"
    },
    {
     "name": "stdout",
     "output_type": "stream",
     "text": [
      "time: 881 ms (started: 2022-12-25 16:14:21 -05:00)\n"
     ]
    }
   ],
   "source": [
    "base_site = \"https://www.goodreads.com/review/list/126744914?shelf=currently-reading\" \n",
    "r = requests.get(base_site)\n",
    "df_list = pd.read_html(r.text)\n",
    "df_current = df_list[-1].copy()\n",
    "df_current[\"title\"] = df_current[\"title\"].apply(lambda x: re.sub(\"^(title )\", \"\", x))\n",
    "df_current[\"author\"] = df_current[\"author\"].apply(lambda x: re.sub(\"(^author )|( \\*$)\", \"\", x))\n",
    "df_current[\"date\"] = pd.to_datetime(df_current[\"added\"].apply(lambda x: re.sub(\"^(date added )\", \"\", x)))\n",
    "cols = [\"title\", \"author\", \"date\"]\n",
    "df_current = df_current[cols].sort_values(by=\"date\", ascending=False)\n",
    "df_current.head(10)"
   ]
  },
  {
   "cell_type": "code",
   "execution_count": 25,
   "id": "680e8c26-10a2-4c90-b8ef-02653a06fb3c",
   "metadata": {},
   "outputs": [
    {
     "data": {
      "text/html": [
       "<div>\n",
       "<style scoped>\n",
       "    .dataframe tbody tr th:only-of-type {\n",
       "        vertical-align: middle;\n",
       "    }\n",
       "\n",
       "    .dataframe tbody tr th {\n",
       "        vertical-align: top;\n",
       "    }\n",
       "\n",
       "    .dataframe thead th {\n",
       "        text-align: right;\n",
       "    }\n",
       "</style>\n",
       "<table border=\"1\" class=\"dataframe\">\n",
       "  <thead>\n",
       "    <tr style=\"text-align: right;\">\n",
       "      <th></th>\n",
       "      <th>title</th>\n",
       "      <th>description</th>\n",
       "    </tr>\n",
       "  </thead>\n",
       "  <tbody>\n",
       "    <tr>\n",
       "      <th>2</th>\n",
       "      <td>the phoenix project</td>\n",
       "      <td>***over a half-million sold! the sequel, the u...</td>\n",
       "    </tr>\n",
       "    <tr>\n",
       "      <th>0</th>\n",
       "      <td>the unicorn project</td>\n",
       "      <td>the phoenix project wowed over a half-million ...</td>\n",
       "    </tr>\n",
       "    <tr>\n",
       "      <th>1</th>\n",
       "      <td>the unicorn project</td>\n",
       "      <td>the phoenix project wowed over a half-million ...</td>\n",
       "    </tr>\n",
       "  </tbody>\n",
       "</table>\n",
       "</div>"
      ],
      "text/plain": [
       "                 title                                        description\n",
       "2  the phoenix project  ***over a half-million sold! the sequel, the u...\n",
       "0  the unicorn project  the phoenix project wowed over a half-million ...\n",
       "1  the unicorn project  the phoenix project wowed over a half-million ..."
      ]
     },
     "execution_count": 25,
     "metadata": {},
     "output_type": "execute_result"
    },
    {
     "name": "stdout",
     "output_type": "stream",
     "text": [
      "time: 1.09 s (started: 2022-12-25 16:25:13 -05:00)\n"
     ]
    }
   ],
   "source": [
    "import requests\n",
    "import json\n",
    "\n",
    "# params = {'inauthor': 'jared', 'intitle': 'guns, germs, and steel'}\n",
    "params = {'inauthor': 'james,clear', 'intitle': 'atomic habits'.lower()}\n",
    "new_params = 'q='\n",
    "new_params += '+'.join('{}:{}'.format(key, value) for key, value in params.items())\n",
    "r = requests.get('https://www.googleapis.com/books/v1/volumes?', params=new_params)\n",
    "\n",
    "uri = f\"https://www.googleapis.com/books/v1/volumes?q=inauthor:gene,kim+intitle:the,unicorn,project\"\n",
    "r = requests.get(uri)\n",
    "_ = pd.DataFrame(json.loads(r.text).get('items'))\n",
    "cols = [\"kind\",\"volumeInfo\"]\n",
    "_ = _[cols]\n",
    "_[\"title\"] = _[\"volumeInfo\"].apply(lambda x: x.get(\"title\",\"none\").lower().strip())\n",
    "_[\"rating\"] = _[\"volumeInfo\"].apply(lambda x: int(x.get(\"ratingsCount\", 0)))\n",
    "# _[\"subtitle\"] = _[\"volumeInfo\"].apply(lambda x: x.get(\"subtitle\",\"none\").lower().strip())\n",
    "_[\"description\"] = _[\"volumeInfo\"].apply(lambda x: x.get(\"description\",\"none\").lower().strip())\n",
    "_ = _[_.rating>0].sort_values(by=\"rating\", ascending=False)\n",
    "# _ = _.drop_duplicates(subset=[\"kind\"], keep=\"first\")\n",
    "cols = [\"title\", \"description\"]\n",
    "_ = _[cols]\n",
    "_.head()"
   ]
  },
  {
   "cell_type": "code",
   "execution_count": 46,
   "id": "5d0f9fd5-2cf5-4609-b943-46adb5114ccc",
   "metadata": {},
   "outputs": [
    {
     "name": "stdout",
     "output_type": "stream",
     "text": [
      "time: 3.63 ms (started: 2022-12-25 16:33:55 -05:00)\n"
     ]
    }
   ],
   "source": [
    "r_text = \" \".join(_.description.unique())\n",
    "r_text = re.sub(r\"[^a-zA-Z0-9 \\n\\.]\", \" \", r_text)"
   ]
  },
  {
   "cell_type": "code",
   "execution_count": 58,
   "id": "337207b7-2cea-411c-9b85-47defec519cb",
   "metadata": {},
   "outputs": [
    {
     "name": "stdout",
     "output_type": "stream",
     "text": [
      "time: 2.2 ms (started: 2022-12-25 16:48:26 -05:00)\n"
     ]
    }
   ],
   "source": [
    "def get_book_description(title, author):\n",
    "    uri = f\"https://www.googleapis.com/books/v1/volumes?q=inauthor:{author.lower()}+intitle:{title.lower()}\"\n",
    "    r = requests.get(uri)\n",
    "    cols = [\"kind\",\"volumeInfo\"]\n",
    "    try:\n",
    "        items = pd.DataFrame(json.loads(r.text).get('items'))[cols]\n",
    "        items[\"rating\"] = items[\"volumeInfo\"].apply(lambda x: int(x.get(\"ratingsCount\", 0)))\n",
    "        items[\"description\"] = items[\"volumeInfo\"].apply(lambda x: x.get(\"description\",\"none\").lower().strip())\n",
    "        items = items[items.rating>0].sort_values(by=\"rating\", ascending=False).head(1)\n",
    "        desc = items.description.iloc[0]\n",
    "    except:\n",
    "        desc = \"\"\n",
    "    return re.sub(r\"[^a-zA-Z0-9 \\n\\.]\", \" \", desc)"
   ]
  },
  {
   "cell_type": "code",
   "execution_count": 62,
   "id": "8c428ca1-36d9-45e9-b7de-342455e63a82",
   "metadata": {},
   "outputs": [
    {
     "data": {
      "text/html": [
       "<div>\n",
       "<style scoped>\n",
       "    .dataframe tbody tr th:only-of-type {\n",
       "        vertical-align: middle;\n",
       "    }\n",
       "\n",
       "    .dataframe tbody tr th {\n",
       "        vertical-align: top;\n",
       "    }\n",
       "\n",
       "    .dataframe thead th {\n",
       "        text-align: right;\n",
       "    }\n",
       "</style>\n",
       "<table border=\"1\" class=\"dataframe\">\n",
       "  <thead>\n",
       "    <tr style=\"text-align: right;\">\n",
       "      <th></th>\n",
       "      <th>title</th>\n",
       "      <th>author</th>\n",
       "      <th>date</th>\n",
       "      <th>desc</th>\n",
       "      <th>book</th>\n",
       "    </tr>\n",
       "  </thead>\n",
       "  <tbody>\n",
       "    <tr>\n",
       "      <th>0</th>\n",
       "      <td>Dive Into Design Patterns</td>\n",
       "      <td>Shvets, Alexander</td>\n",
       "      <td>2022-09-28</td>\n",
       "      <td></td>\n",
       "      <td>Dive Into Design Patterns</td>\n",
       "    </tr>\n",
       "    <tr>\n",
       "      <th>1</th>\n",
       "      <td>Deep Reinforcement Learning with Python: Maste...</td>\n",
       "      <td>Ravichandiran, Sudharsan</td>\n",
       "      <td>2022-09-24</td>\n",
       "      <td>an example rich guide for beginners to start t...</td>\n",
       "      <td>Deep Reinforcement Learning with Python: Maste...</td>\n",
       "    </tr>\n",
       "    <tr>\n",
       "      <th>2</th>\n",
       "      <td>Information Retrieval: Implementing and Evalua...</td>\n",
       "      <td>Büttcher, Stefan</td>\n",
       "      <td>2022-07-27</td>\n",
       "      <td></td>\n",
       "      <td>Information Retrieval: Implementing and Evalua...</td>\n",
       "    </tr>\n",
       "    <tr>\n",
       "      <th>3</th>\n",
       "      <td>Guns, Germs, and Steel: The Fates of Human Soc...</td>\n",
       "      <td>Diamond, Jared</td>\n",
       "      <td>2022-07-10</td>\n",
       "      <td>patterned planet  special editions of groundbr...</td>\n",
       "      <td>Guns, Germs, and Steel: The Fates of Human Soc...</td>\n",
       "    </tr>\n",
       "  </tbody>\n",
       "</table>\n",
       "</div>"
      ],
      "text/plain": [
       "                                               title  \\\n",
       "0                          Dive Into Design Patterns   \n",
       "1  Deep Reinforcement Learning with Python: Maste...   \n",
       "2  Information Retrieval: Implementing and Evalua...   \n",
       "3  Guns, Germs, and Steel: The Fates of Human Soc...   \n",
       "\n",
       "                     author       date  \\\n",
       "0        Shvets, Alexander  2022-09-28   \n",
       "1  Ravichandiran, Sudharsan 2022-09-24   \n",
       "2          Büttcher, Stefan 2022-07-27   \n",
       "3            Diamond, Jared 2022-07-10   \n",
       "\n",
       "                                                desc  \\\n",
       "0                                                      \n",
       "1  an example rich guide for beginners to start t...   \n",
       "2                                                      \n",
       "3  patterned planet  special editions of groundbr...   \n",
       "\n",
       "                                                book  \n",
       "0                         Dive Into Design Patterns   \n",
       "1  Deep Reinforcement Learning with Python: Maste...  \n",
       "2  Information Retrieval: Implementing and Evalua...  \n",
       "3  Guns, Germs, and Steel: The Fates of Human Soc...  "
      ]
     },
     "execution_count": 62,
     "metadata": {},
     "output_type": "execute_result"
    },
    {
     "name": "stdout",
     "output_type": "stream",
     "text": [
      "time: 1.63 s (started: 2022-12-25 16:54:34 -05:00)\n"
     ]
    }
   ],
   "source": [
    "df_current[\"desc\"] = df_current[[\"title\", \"author\"]].apply(lambda x: get_book_description(x.title, x.author), axis=1)\n",
    "df_current[\"book\"] = df_current[\"title\"] + \" \" + df_current[\"desc\"]\n",
    "df_current.head()"
   ]
  },
  {
   "cell_type": "code",
   "execution_count": 60,
   "id": "848c76ce-5e9d-4fdf-a5e1-616275ba2255",
   "metadata": {},
   "outputs": [
    {
     "data": {
      "text/html": [
       "<div>\n",
       "<style scoped>\n",
       "    .dataframe tbody tr th:only-of-type {\n",
       "        vertical-align: middle;\n",
       "    }\n",
       "\n",
       "    .dataframe tbody tr th {\n",
       "        vertical-align: top;\n",
       "    }\n",
       "\n",
       "    .dataframe thead th {\n",
       "        text-align: right;\n",
       "    }\n",
       "</style>\n",
       "<table border=\"1\" class=\"dataframe\">\n",
       "  <thead>\n",
       "    <tr style=\"text-align: right;\">\n",
       "      <th></th>\n",
       "      <th>title</th>\n",
       "      <th>author</th>\n",
       "      <th>date</th>\n",
       "      <th>desc</th>\n",
       "    </tr>\n",
       "  </thead>\n",
       "  <tbody>\n",
       "    <tr>\n",
       "      <th>3</th>\n",
       "      <td>surface detail  (culture, #9)</td>\n",
       "      <td>banks, iain m.</td>\n",
       "      <td>2022-11-13</td>\n",
       "      <td>it begins in the realm of the real  where matt...</td>\n",
       "    </tr>\n",
       "    <tr>\n",
       "      <th>6</th>\n",
       "      <td>statistical rethinking: a bayesian course with...</td>\n",
       "      <td>mcelreath, richard</td>\n",
       "      <td>2022-09-24</td>\n",
       "      <td></td>\n",
       "    </tr>\n",
       "    <tr>\n",
       "      <th>2</th>\n",
       "      <td>novacene: the coming age of hyperintelligence</td>\n",
       "      <td>lovelock, james e.</td>\n",
       "      <td>2022-09-10</td>\n",
       "      <td></td>\n",
       "    </tr>\n",
       "    <tr>\n",
       "      <th>0</th>\n",
       "      <td>introducing game theory: a graphic guide</td>\n",
       "      <td>pastine, ivan</td>\n",
       "      <td>2022-09-03</td>\n",
       "      <td></td>\n",
       "    </tr>\n",
       "    <tr>\n",
       "      <th>1</th>\n",
       "      <td>the spy and the traitor: the greatest espionag...</td>\n",
       "      <td>macintyre, ben</td>\n",
       "      <td>2022-08-28</td>\n",
       "      <td>new york times bestseller   now a netflix film...</td>\n",
       "    </tr>\n",
       "    <tr>\n",
       "      <th>25</th>\n",
       "      <td>the irrational ape: why flawed logic puts us a...</td>\n",
       "      <td>grimes, david robert</td>\n",
       "      <td>2022-08-14</td>\n",
       "      <td></td>\n",
       "    </tr>\n",
       "    <tr>\n",
       "      <th>15</th>\n",
       "      <td>atomic habits: an easy &amp; proven way to build g...</td>\n",
       "      <td>clear, james</td>\n",
       "      <td>2022-07-24</td>\n",
       "      <td>a leading expert on habit formation reveals pr...</td>\n",
       "    </tr>\n",
       "    <tr>\n",
       "      <th>4</th>\n",
       "      <td>the manager's path: a guide for tech leaders n...</td>\n",
       "      <td>fournier, camille</td>\n",
       "      <td>2022-06-25</td>\n",
       "      <td>managing people is difficult wherever you work...</td>\n",
       "    </tr>\n",
       "    <tr>\n",
       "      <th>22</th>\n",
       "      <td>emotions revealed: recognizing faces and feeli...</td>\n",
       "      <td>ekman, paul</td>\n",
       "      <td>2022-06-19</td>\n",
       "      <td>an expert on nonverbal communication traces th...</td>\n",
       "    </tr>\n",
       "    <tr>\n",
       "      <th>11</th>\n",
       "      <td>the unicorn project</td>\n",
       "      <td>kim, gene</td>\n",
       "      <td>2022-05-05</td>\n",
       "      <td>over a half million sold  the sequel  the u...</td>\n",
       "    </tr>\n",
       "  </tbody>\n",
       "</table>\n",
       "</div>"
      ],
      "text/plain": [
       "                                                title                author  \\\n",
       "3                       surface detail  (culture, #9)        banks, iain m.   \n",
       "6   statistical rethinking: a bayesian course with...    mcelreath, richard   \n",
       "2       novacene: the coming age of hyperintelligence    lovelock, james e.   \n",
       "0            introducing game theory: a graphic guide         pastine, ivan   \n",
       "1   the spy and the traitor: the greatest espionag...        macintyre, ben   \n",
       "25  the irrational ape: why flawed logic puts us a...  grimes, david robert   \n",
       "15  atomic habits: an easy & proven way to build g...         clear, james    \n",
       "4   the manager's path: a guide for tech leaders n...     fournier, camille   \n",
       "22  emotions revealed: recognizing faces and feeli...           ekman, paul   \n",
       "11                                the unicorn project             kim, gene   \n",
       "\n",
       "         date                                               desc  \n",
       "3  2022-11-13  it begins in the realm of the real  where matt...  \n",
       "6  2022-09-24                                                     \n",
       "2  2022-09-10                                                     \n",
       "0  2022-09-03                                                     \n",
       "1  2022-08-28  new york times bestseller   now a netflix film...  \n",
       "25 2022-08-14                                                     \n",
       "15 2022-07-24  a leading expert on habit formation reveals pr...  \n",
       "4  2022-06-25  managing people is difficult wherever you work...  \n",
       "22 2022-06-19  an expert on nonverbal communication traces th...  \n",
       "11 2022-05-05     over a half million sold  the sequel  the u...  "
      ]
     },
     "execution_count": 60,
     "metadata": {},
     "output_type": "execute_result"
    },
    {
     "name": "stdout",
     "output_type": "stream",
     "text": [
      "time: 15.1 s (started: 2022-12-25 16:48:58 -05:00)\n"
     ]
    }
   ],
   "source": [
    "df_read[\"desc\"] = df_read[[\"title\", \"author\"]].apply(lambda x: get_book_description(x.title, x.author), axis=1)\n",
    "df_read.head(10)"
   ]
  },
  {
   "cell_type": "code",
   "execution_count": 61,
   "id": "2938f2b8-b7b7-44bd-ab86-13c9a67d0fbb",
   "metadata": {},
   "outputs": [
    {
     "data": {
      "text/html": [
       "<div>\n",
       "<style scoped>\n",
       "    .dataframe tbody tr th:only-of-type {\n",
       "        vertical-align: middle;\n",
       "    }\n",
       "\n",
       "    .dataframe tbody tr th {\n",
       "        vertical-align: top;\n",
       "    }\n",
       "\n",
       "    .dataframe thead th {\n",
       "        text-align: right;\n",
       "    }\n",
       "</style>\n",
       "<table border=\"1\" class=\"dataframe\">\n",
       "  <thead>\n",
       "    <tr style=\"text-align: right;\">\n",
       "      <th></th>\n",
       "      <th>title</th>\n",
       "      <th>author</th>\n",
       "      <th>date</th>\n",
       "      <th>desc</th>\n",
       "    </tr>\n",
       "  </thead>\n",
       "  <tbody>\n",
       "    <tr>\n",
       "      <th>29</th>\n",
       "      <td>graph representation learning</td>\n",
       "      <td>hamilton, william l.</td>\n",
       "      <td>2021-10-30</td>\n",
       "      <td></td>\n",
       "    </tr>\n",
       "    <tr>\n",
       "      <th>19</th>\n",
       "      <td>recommender systems: the textbook</td>\n",
       "      <td>aggarwal, charu c.</td>\n",
       "      <td>2019-12-31</td>\n",
       "      <td></td>\n",
       "    </tr>\n",
       "    <tr>\n",
       "      <th>21</th>\n",
       "      <td>effective python: 59 specific ways to write be...</td>\n",
       "      <td>slatkin, brett</td>\n",
       "      <td>2019-12-31</td>\n",
       "      <td></td>\n",
       "    </tr>\n",
       "    <tr>\n",
       "      <th>17</th>\n",
       "      <td>applied predictive modeling</td>\n",
       "      <td>kuhn, max</td>\n",
       "      <td>2018-12-31</td>\n",
       "      <td>applied predictive modeling covers the overall...</td>\n",
       "    </tr>\n",
       "    <tr>\n",
       "      <th>7</th>\n",
       "      <td>the 48 laws of power</td>\n",
       "      <td>greene, robert</td>\n",
       "      <td>2017-12-31</td>\n",
       "      <td>cunning  instructive  and amoral  this controv...</td>\n",
       "    </tr>\n",
       "    <tr>\n",
       "      <th>13</th>\n",
       "      <td>deep learning with r</td>\n",
       "      <td>chollet, francois</td>\n",
       "      <td>2017-12-31</td>\n",
       "      <td></td>\n",
       "    </tr>\n",
       "    <tr>\n",
       "      <th>18</th>\n",
       "      <td>applied predictive analytics: principles and t...</td>\n",
       "      <td>abbott, dean</td>\n",
       "      <td>2016-12-31</td>\n",
       "      <td></td>\n",
       "    </tr>\n",
       "    <tr>\n",
       "      <th>20</th>\n",
       "      <td>a place called freedom</td>\n",
       "      <td>follett, ken</td>\n",
       "      <td>2014-12-31</td>\n",
       "      <td>the worldwide phenomenon from the bestselling ...</td>\n",
       "    </tr>\n",
       "    <tr>\n",
       "      <th>16</th>\n",
       "      <td>power and love: a theory and practice of socia...</td>\n",
       "      <td>kahane, adam</td>\n",
       "      <td>2011-12-31</td>\n",
       "      <td></td>\n",
       "    </tr>\n",
       "    <tr>\n",
       "      <th>26</th>\n",
       "      <td>deception point</td>\n",
       "      <td>brown, dan</td>\n",
       "      <td>2011-06-12</td>\n",
       "      <td>a boxed set containing two best selling thrill...</td>\n",
       "    </tr>\n",
       "  </tbody>\n",
       "</table>\n",
       "</div>"
      ],
      "text/plain": [
       "                                                title                author  \\\n",
       "29                      graph representation learning  hamilton, william l.   \n",
       "19                  recommender systems: the textbook    aggarwal, charu c.   \n",
       "21  effective python: 59 specific ways to write be...        slatkin, brett   \n",
       "17                        applied predictive modeling             kuhn, max   \n",
       "7                                the 48 laws of power       greene, robert    \n",
       "13                               deep learning with r     chollet, francois   \n",
       "18  applied predictive analytics: principles and t...          abbott, dean   \n",
       "20                             a place called freedom         follett, ken    \n",
       "16  power and love: a theory and practice of socia...         kahane, adam    \n",
       "26                                    deception point           brown, dan    \n",
       "\n",
       "         date                                               desc  \n",
       "29 2021-10-30                                                     \n",
       "19 2019-12-31                                                     \n",
       "21 2019-12-31                                                     \n",
       "17 2018-12-31  applied predictive modeling covers the overall...  \n",
       "7  2017-12-31  cunning  instructive  and amoral  this controv...  \n",
       "13 2017-12-31                                                     \n",
       "18 2016-12-31                                                     \n",
       "20 2014-12-31  the worldwide phenomenon from the bestselling ...  \n",
       "16 2011-12-31                                                     \n",
       "26 2011-06-12  a boxed set containing two best selling thrill...  "
      ]
     },
     "execution_count": 61,
     "metadata": {},
     "output_type": "execute_result"
    },
    {
     "name": "stdout",
     "output_type": "stream",
     "text": [
      "time: 29.2 ms (started: 2022-12-25 16:49:39 -05:00)\n"
     ]
    }
   ],
   "source": [
    "df_read.tail(10)"
   ]
  },
  {
   "cell_type": "code",
   "execution_count": null,
   "id": "1e6d0128-3876-4e37-9d87-71b476d1da52",
   "metadata": {},
   "outputs": [],
   "source": []
  }
 ],
 "metadata": {
  "kernelspec": {
   "display_name": "Python 3 (ipykernel)",
   "language": "python",
   "name": "python3"
  },
  "language_info": {
   "codemirror_mode": {
    "name": "ipython",
    "version": 3
   },
   "file_extension": ".py",
   "mimetype": "text/x-python",
   "name": "python",
   "nbconvert_exporter": "python",
   "pygments_lexer": "ipython3",
   "version": "3.9.7"
  }
 },
 "nbformat": 4,
 "nbformat_minor": 5
}
