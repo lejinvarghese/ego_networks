{
 "cells": [
  {
   "cell_type": "markdown",
   "id": "d34e253f-38b6-4c1a-90b9-f3b2dea98ae8",
   "metadata": {
    "tags": []
   },
   "source": [
    "# **Goodreads Neighborhood**\n"
   ]
  },
  {
   "cell_type": "markdown",
   "id": "1779ee87-4c92-4eb0-b1cf-034c9eeb0eac",
   "metadata": {
    "tags": []
   },
   "source": [
    "## **Imports**\n"
   ]
  },
  {
   "cell_type": "code",
   "execution_count": 1,
   "id": "5d09a454-c004-44a1-b474-72a9a8f476f9",
   "metadata": {},
   "outputs": [
    {
     "name": "stdout",
     "output_type": "stream",
     "text": [
      "time: 2.32 ms (started: 2022-12-23 22:53:27 -05:00)\n"
     ]
    }
   ],
   "source": [
    "import os\n",
    "import sys\n",
    "from warnings import filterwarnings\n",
    "import matplotlib.pyplot as plt\n",
    "from pathlib import Path\n",
    "from dotenv import load_dotenv\n",
    "\n",
    "%matplotlib inline\n",
    "%load_ext autotime\n",
    "\n",
    "load_dotenv()\n",
    "filterwarnings(\"ignore\")\n",
    "\n",
    "module_path = os.path.abspath(os.path.join(\"../\"))\n",
    "parent_dir = os.path.dirname(os.getcwd())\n",
    "if module_path not in sys.path:\n",
    "    sys.path.append(module_path)"
   ]
  },
  {
   "cell_type": "code",
   "execution_count": 2,
   "id": "19a83aeb-f271-46b2-a54b-15e9aab3d970",
   "metadata": {},
   "outputs": [
    {
     "name": "stdout",
     "output_type": "stream",
     "text": [
      "time: 894 ms (started: 2022-12-23 22:53:27 -05:00)\n"
     ]
    }
   ],
   "source": [
    "import pandas as pd\n",
    "import ast\n",
    "import networkx as nx\n",
    "\n",
    "import requests\n",
    "from bs4 import BeautifulSoup\n",
    "from urllib.parse import urljoin\n",
    "\n",
    "PATH = os.getcwd()\n",
    "PROJECT = str(Path(PATH).parents[0])\n",
    "CLOUD_STORAGE_BUCKET = os.getenv(\"CLOUD_STORAGE_BUCKET\")"
   ]
  },
  {
   "cell_type": "markdown",
   "id": "a1191faa-1460-4b9d-8658-801074c6fd48",
   "metadata": {
    "tags": []
   },
   "source": [
    "## **Read**\n"
   ]
  },
  {
   "cell_type": "code",
   "execution_count": 3,
   "id": "979fbdfd-8468-4497-a9b6-acf5c7c40ee8",
   "metadata": {},
   "outputs": [
    {
     "name": "stdout",
     "output_type": "stream",
     "text": [
      "time: 267 µs (started: 2022-12-23 22:53:28 -05:00)\n"
     ]
    }
   ],
   "source": [
    "# !{sys.executable} -m pip install lxml"
   ]
  },
  {
   "cell_type": "code",
   "execution_count": 108,
   "id": "86ef546c-3029-4e71-900b-027baea57964",
   "metadata": {},
   "outputs": [
    {
     "name": "stdout",
     "output_type": "stream",
     "text": [
      "time: 1.19 s (started: 2022-12-24 00:02:03 -05:00)\n"
     ]
    }
   ],
   "source": [
    "# Specifying website url\n",
    "base_site = \"https://www.goodreads.com/review/list/126744914-lejin-varghese?order=d&per_page=infinite&shelf=read&sort=date_read&utf8=%E2%9C%93\" "
   ]
  },
  {
   "cell_type": "code",
   "execution_count": 133,
   "id": "28fa9b93-7ee5-40e0-92ca-af73c99038b3",
   "metadata": {},
   "outputs": [
    {
     "data": {
      "text/html": [
       "<div>\n",
       "<style scoped>\n",
       "    .dataframe tbody tr th:only-of-type {\n",
       "        vertical-align: middle;\n",
       "    }\n",
       "\n",
       "    .dataframe tbody tr th {\n",
       "        vertical-align: top;\n",
       "    }\n",
       "\n",
       "    .dataframe thead th {\n",
       "        text-align: right;\n",
       "    }\n",
       "</style>\n",
       "<table border=\"1\" class=\"dataframe\">\n",
       "  <thead>\n",
       "    <tr style=\"text-align: right;\">\n",
       "      <th></th>\n",
       "      <th>title</th>\n",
       "      <th>author</th>\n",
       "      <th>date</th>\n",
       "    </tr>\n",
       "  </thead>\n",
       "  <tbody>\n",
       "    <tr>\n",
       "      <th>3</th>\n",
       "      <td>Surface Detail  (Culture, #9)</td>\n",
       "      <td>Banks, Iain M.</td>\n",
       "      <td>2022-11-13</td>\n",
       "    </tr>\n",
       "    <tr>\n",
       "      <th>6</th>\n",
       "      <td>Statistical Rethinking: A Bayesian Course with...</td>\n",
       "      <td>McElreath, Richard</td>\n",
       "      <td>2022-09-24</td>\n",
       "    </tr>\n",
       "    <tr>\n",
       "      <th>2</th>\n",
       "      <td>Novacene: The Coming Age of Hyperintelligence</td>\n",
       "      <td>Lovelock, James E.</td>\n",
       "      <td>2022-09-10</td>\n",
       "    </tr>\n",
       "    <tr>\n",
       "      <th>0</th>\n",
       "      <td>Introducing Game Theory: A Graphic Guide</td>\n",
       "      <td>Pastine, Ivan</td>\n",
       "      <td>2022-09-03</td>\n",
       "    </tr>\n",
       "    <tr>\n",
       "      <th>1</th>\n",
       "      <td>The Spy and the Traitor: The Greatest Espionag...</td>\n",
       "      <td>Macintyre, Ben</td>\n",
       "      <td>2022-08-28</td>\n",
       "    </tr>\n",
       "    <tr>\n",
       "      <th>25</th>\n",
       "      <td>The Irrational Ape: Why Flawed Logic Puts us a...</td>\n",
       "      <td>Grimes, David Robert</td>\n",
       "      <td>2022-08-14</td>\n",
       "    </tr>\n",
       "    <tr>\n",
       "      <th>15</th>\n",
       "      <td>Atomic Habits: An Easy &amp; Proven Way to Build G...</td>\n",
       "      <td>Clear, James</td>\n",
       "      <td>2022-07-24</td>\n",
       "    </tr>\n",
       "    <tr>\n",
       "      <th>4</th>\n",
       "      <td>The Manager's Path: A Guide for Tech Leaders N...</td>\n",
       "      <td>Fournier, Camille</td>\n",
       "      <td>2022-06-25</td>\n",
       "    </tr>\n",
       "    <tr>\n",
       "      <th>22</th>\n",
       "      <td>Emotions Revealed: Recognizing Faces and Feeli...</td>\n",
       "      <td>Ekman, Paul</td>\n",
       "      <td>2022-06-19</td>\n",
       "    </tr>\n",
       "    <tr>\n",
       "      <th>11</th>\n",
       "      <td>The Unicorn Project</td>\n",
       "      <td>Kim, Gene</td>\n",
       "      <td>2022-05-05</td>\n",
       "    </tr>\n",
       "  </tbody>\n",
       "</table>\n",
       "</div>"
      ],
      "text/plain": [
       "                                                title                author  \\\n",
       "3                       Surface Detail  (Culture, #9)        Banks, Iain M.   \n",
       "6   Statistical Rethinking: A Bayesian Course with...    McElreath, Richard   \n",
       "2       Novacene: The Coming Age of Hyperintelligence    Lovelock, James E.   \n",
       "0            Introducing Game Theory: A Graphic Guide         Pastine, Ivan   \n",
       "1   The Spy and the Traitor: The Greatest Espionag...        Macintyre, Ben   \n",
       "25  The Irrational Ape: Why Flawed Logic Puts us a...  Grimes, David Robert   \n",
       "15  Atomic Habits: An Easy & Proven Way to Build G...         Clear, James    \n",
       "4   The Manager's Path: A Guide for Tech Leaders N...     Fournier, Camille   \n",
       "22  Emotions Revealed: Recognizing Faces and Feeli...           Ekman, Paul   \n",
       "11                                The Unicorn Project             Kim, Gene   \n",
       "\n",
       "         date  \n",
       "3  2022-11-13  \n",
       "6  2022-09-24  \n",
       "2  2022-09-10  \n",
       "0  2022-09-03  \n",
       "1  2022-08-28  \n",
       "25 2022-08-14  \n",
       "15 2022-07-24  \n",
       "4  2022-06-25  \n",
       "22 2022-06-19  \n",
       "11 2022-05-05  "
      ]
     },
     "execution_count": 133,
     "metadata": {},
     "output_type": "execute_result"
    },
    {
     "name": "stdout",
     "output_type": "stream",
     "text": [
      "time: 1.1 s (started: 2022-12-24 00:32:00 -05:00)\n"
     ]
    }
   ],
   "source": [
    "base_site = \"https://www.goodreads.com/review/list/126744914-lejin-varghese?per_page=infinite&shelf=read\" \n",
    "r = requests.get(base_site)\n",
    "df_list = pd.read_html(r.text)\n",
    "df_read = df_list[-1].copy()\n",
    "df_read[\"title\"] = df_read[\"title\"].apply(lambda x: re.sub(\"^(title )\", \"\", x))\n",
    "df_read[\"author\"] = df_read[\"author\"].apply(lambda x: re.sub(\"(^author )|( \\*$)\", \"\", x))\n",
    "df_read[\"date\"] = pd.to_datetime(df_read[\"read\"].apply(lambda x: re.sub(\"^(date read )\", \"\", x)))\n",
    "cols = [\"title\", \"author\", \"date\"]\n",
    "df_read = df_read[cols].sort_values(by=\"date\", ascending=False)\n",
    "df_read.head(10)"
   ]
  },
  {
   "cell_type": "code",
   "execution_count": 131,
   "id": "70f7c324-255a-4d79-b483-206f981f08b9",
   "metadata": {},
   "outputs": [
    {
     "data": {
      "text/html": [
       "<div>\n",
       "<style scoped>\n",
       "    .dataframe tbody tr th:only-of-type {\n",
       "        vertical-align: middle;\n",
       "    }\n",
       "\n",
       "    .dataframe tbody tr th {\n",
       "        vertical-align: top;\n",
       "    }\n",
       "\n",
       "    .dataframe thead th {\n",
       "        text-align: right;\n",
       "    }\n",
       "</style>\n",
       "<table border=\"1\" class=\"dataframe\">\n",
       "  <thead>\n",
       "    <tr style=\"text-align: right;\">\n",
       "      <th></th>\n",
       "      <th>title</th>\n",
       "      <th>author</th>\n",
       "      <th>date</th>\n",
       "    </tr>\n",
       "  </thead>\n",
       "  <tbody>\n",
       "    <tr>\n",
       "      <th>0</th>\n",
       "      <td>Dive Into Design Patterns</td>\n",
       "      <td>Shvets, Alexander</td>\n",
       "      <td>2022-09-28</td>\n",
       "    </tr>\n",
       "    <tr>\n",
       "      <th>1</th>\n",
       "      <td>Deep Reinforcement Learning with Python: Maste...</td>\n",
       "      <td>Ravichandiran, Sudharsan</td>\n",
       "      <td>2022-09-24</td>\n",
       "    </tr>\n",
       "    <tr>\n",
       "      <th>2</th>\n",
       "      <td>Information Retrieval: Implementing and Evalua...</td>\n",
       "      <td>Büttcher, Stefan</td>\n",
       "      <td>2022-07-27</td>\n",
       "    </tr>\n",
       "    <tr>\n",
       "      <th>3</th>\n",
       "      <td>Guns, Germs, and Steel: The Fates of Human Soc...</td>\n",
       "      <td>Diamond, Jared</td>\n",
       "      <td>2022-07-10</td>\n",
       "    </tr>\n",
       "  </tbody>\n",
       "</table>\n",
       "</div>"
      ],
      "text/plain": [
       "                                               title  \\\n",
       "0                          Dive Into Design Patterns   \n",
       "1  Deep Reinforcement Learning with Python: Maste...   \n",
       "2  Information Retrieval: Implementing and Evalua...   \n",
       "3  Guns, Germs, and Steel: The Fates of Human Soc...   \n",
       "\n",
       "                     author       date  \n",
       "0        Shvets, Alexander  2022-09-28  \n",
       "1  Ravichandiran, Sudharsan 2022-09-24  \n",
       "2          Büttcher, Stefan 2022-07-27  \n",
       "3            Diamond, Jared 2022-07-10  "
      ]
     },
     "execution_count": 131,
     "metadata": {},
     "output_type": "execute_result"
    },
    {
     "name": "stdout",
     "output_type": "stream",
     "text": [
      "time: 804 ms (started: 2022-12-24 00:31:20 -05:00)\n"
     ]
    }
   ],
   "source": [
    "base_site = \"https://www.goodreads.com/review/list/126744914-lejin-varghese?shelf=currently-reading\" \n",
    "r = requests.get(base_site)\n",
    "df_list = pd.read_html(r.text)\n",
    "df_current = df_list[-1].copy()\n",
    "df_current[\"title\"] = df_current[\"title\"].apply(lambda x: re.sub(\"^(title )\", \"\", x))\n",
    "df_current[\"author\"] = df_current[\"author\"].apply(lambda x: re.sub(\"(^author )|( \\*$)\", \"\", x))\n",
    "df_current[\"date\"] = pd.to_datetime(df_current[\"added\"].apply(lambda x: re.sub(\"^(date added )\", \"\", x)))\n",
    "cols = [\"title\", \"author\", \"date\"]\n",
    "df_current = df_current[cols].sort_values(by=\"date\", ascending=False)\n",
    "df_current.head(10)"
   ]
  },
  {
   "cell_type": "code",
   "execution_count": 195,
   "id": "680e8c26-10a2-4c90-b8ef-02653a06fb3c",
   "metadata": {},
   "outputs": [
    {
     "data": {
      "text/html": [
       "<div>\n",
       "<style scoped>\n",
       "    .dataframe tbody tr th:only-of-type {\n",
       "        vertical-align: middle;\n",
       "    }\n",
       "\n",
       "    .dataframe tbody tr th {\n",
       "        vertical-align: top;\n",
       "    }\n",
       "\n",
       "    .dataframe thead th {\n",
       "        text-align: right;\n",
       "    }\n",
       "</style>\n",
       "<table border=\"1\" class=\"dataframe\">\n",
       "  <thead>\n",
       "    <tr style=\"text-align: right;\">\n",
       "      <th></th>\n",
       "      <th>title</th>\n",
       "      <th>subtitle</th>\n",
       "      <th>rating</th>\n",
       "      <th>description</th>\n",
       "    </tr>\n",
       "  </thead>\n",
       "  <tbody>\n",
       "    <tr>\n",
       "      <th>0</th>\n",
       "      <td>atomic habits</td>\n",
       "      <td>the life-changing million-copy #1 bestseller</td>\n",
       "      <td>3</td>\n",
       "      <td>the phenomenal international bestseller: 1 mil...</td>\n",
       "    </tr>\n",
       "    <tr>\n",
       "      <th>1</th>\n",
       "      <td>atomic habits</td>\n",
       "      <td>an easy &amp; proven way to build good habits &amp; br...</td>\n",
       "      <td>0</td>\n",
       "      <td>the #1 new york times bestseller. over 4 milli...</td>\n",
       "    </tr>\n",
       "    <tr>\n",
       "      <th>2</th>\n",
       "      <td>atomic habits (tamil)</td>\n",
       "      <td>none</td>\n",
       "      <td>0</td>\n",
       "      <td>நீங்கள் உங்கள் வாழ்க்கையை மாற்ற விரும்பினால், ...</td>\n",
       "    </tr>\n",
       "    <tr>\n",
       "      <th>3</th>\n",
       "      <td>atomic habits</td>\n",
       "      <td>an easy and proven way to build good habits an...</td>\n",
       "      <td>0</td>\n",
       "      <td>none</td>\n",
       "    </tr>\n",
       "    <tr>\n",
       "      <th>4</th>\n",
       "      <td>james clear memoir</td>\n",
       "      <td>timeline &amp; biography of james clear atomic hab...</td>\n",
       "      <td>0</td>\n",
       "      <td>want to know more about james clear? continue ...</td>\n",
       "    </tr>\n",
       "  </tbody>\n",
       "</table>\n",
       "</div>"
      ],
      "text/plain": [
       "                   title                                           subtitle  \\\n",
       "0          atomic habits       the life-changing million-copy #1 bestseller   \n",
       "1          atomic habits  an easy & proven way to build good habits & br...   \n",
       "2  atomic habits (tamil)                                               none   \n",
       "3          atomic habits  an easy and proven way to build good habits an...   \n",
       "4     james clear memoir  timeline & biography of james clear atomic hab...   \n",
       "\n",
       "   rating                                        description  \n",
       "0       3  the phenomenal international bestseller: 1 mil...  \n",
       "1       0  the #1 new york times bestseller. over 4 milli...  \n",
       "2       0  நீங்கள் உங்கள் வாழ்க்கையை மாற்ற விரும்பினால், ...  \n",
       "3       0                                               none  \n",
       "4       0  want to know more about james clear? continue ...  "
      ]
     },
     "execution_count": 195,
     "metadata": {},
     "output_type": "execute_result"
    },
    {
     "name": "stdout",
     "output_type": "stream",
     "text": [
      "time: 564 ms (started: 2022-12-24 01:03:43 -05:00)\n"
     ]
    }
   ],
   "source": [
    "import requests\n",
    "import json\n",
    "\n",
    "# params = {'inauthor': 'jared', 'intitle': 'guns, germs, and steel'}\n",
    "params = {'inauthor': 'james clear', 'intitle': 'atomic habits'.lower()}\n",
    "new_params = 'q='\n",
    "new_params += '+'.join('{}:{}'.format(key, value) for key, value in params.items())\n",
    "r = requests.get('https://www.googleapis.com/books/v1/volumes?', params=new_params)\n",
    "\n",
    "_ = pd.DataFrame(json.loads(r.text).get('items'))\n",
    "cols = [\"kind\",\"volumeInfo\"]\n",
    "_ = _[cols]\n",
    "_[\"title\"] = _[\"volumeInfo\"].apply(lambda x: x.get(\"title\",\"none\").lower().strip())\n",
    "_[\"rating\"] = _[\"volumeInfo\"].apply(lambda x: int(x.get(\"ratingsCount\", 0)))\n",
    "_[\"subtitle\"] = _[\"volumeInfo\"].apply(lambda x: x.get(\"subtitle\",\"none\").lower().strip())\n",
    "_[\"description\"] = _[\"volumeInfo\"].apply(lambda x: x.get(\"description\",\"none\").lower().strip())\n",
    "_ = _.sort_values(by=\"rating\", ascending=False)\n",
    "# _ = _.drop_duplicates(subset=[\"kind\"], keep=\"first\")\n",
    "cols = [\"title\", \"subtitle\", \"rating\", \"description\"]\n",
    "_ = _[cols]\n",
    "_.head()"
   ]
  },
  {
   "cell_type": "code",
   "execution_count": null,
   "id": "5d0f9fd5-2cf5-4609-b943-46adb5114ccc",
   "metadata": {},
   "outputs": [],
   "source": []
  }
 ],
 "metadata": {
  "kernelspec": {
   "display_name": "Python 3 (ipykernel)",
   "language": "python",
   "name": "python3"
  },
  "language_info": {
   "codemirror_mode": {
    "name": "ipython",
    "version": 3
   },
   "file_extension": ".py",
   "mimetype": "text/x-python",
   "name": "python",
   "nbconvert_exporter": "python",
   "pygments_lexer": "ipython3",
   "version": "3.9.7"
  }
 },
 "nbformat": 4,
 "nbformat_minor": 5
}
