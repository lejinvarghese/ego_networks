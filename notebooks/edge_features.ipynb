{
 "cells": [
  {
   "cell_type": "markdown",
   "id": "a3d1a941-baa0-4632-9d85-2d50a078b552",
   "metadata": {
    "tags": []
   },
   "source": [
    "# **Communities Visualiztion**\n"
   ]
  },
  {
   "cell_type": "markdown",
   "id": "5d7424cb-8074-4a72-bb11-6377f3fa12ac",
   "metadata": {
    "tags": []
   },
   "source": [
    "## **Imports**\n"
   ]
  },
  {
   "cell_type": "code",
   "execution_count": 1,
   "id": "3f6e0365-a098-4b02-b113-d9742cd3b656",
   "metadata": {},
   "outputs": [
    {
     "name": "stdout",
     "output_type": "stream",
     "text": [
      "time: 2.66 ms (started: 2022-12-31 00:32:41 -05:00)\n"
     ]
    }
   ],
   "source": [
    "import os\n",
    "import sys\n",
    "from warnings import filterwarnings\n",
    "import matplotlib.pyplot as plt\n",
    "from pathlib import Path\n",
    "from dotenv import load_dotenv\n",
    "\n",
    "%matplotlib inline\n",
    "%load_ext autotime\n",
    "\n",
    "load_dotenv()\n",
    "filterwarnings(\"ignore\")\n",
    "\n",
    "module_path = os.path.abspath(os.path.join(\"../\"))\n",
    "parent_dir = os.path.dirname(os.getcwd())\n",
    "if module_path not in sys.path:\n",
    "    sys.path.append(module_path)"
   ]
  },
  {
   "cell_type": "code",
   "execution_count": 26,
   "id": "52d5128e-30c9-42fa-a9ee-fa03fcbe54f3",
   "metadata": {},
   "outputs": [
    {
     "name": "stdout",
     "output_type": "stream",
     "text": [
      "time: 1.77 ms (started: 2022-12-31 00:42:51 -05:00)\n"
     ]
    }
   ],
   "source": [
    "import tweepy\n",
    "import numpy as np\n",
    "import pandas as pd\n",
    "import dask.dataframe as dd\n",
    "import ast\n",
    "from scipy.stats import gmean\n",
    "import networkx as nx\n",
    "import seaborn as sns\n",
    "from utils.graph import get_ego_graph, draw_nx_graph, draw_plotly_graph\n",
    "\n",
    "PATH = os.getcwd()\n",
    "PROJECT = str(Path(PATH).parents[0])\n",
    "TWITTER_USERNAME = os.getenv(\"TWITTER_USERNAME\")\n",
    "TWITTER_API_KEY = os.getenv(\"TWITTER_API_KEY\")\n",
    "TWITTER_API_SECRET = os.getenv(\"TWITTER_API_SECRET\")\n",
    "TWITTER_API_BEARER_TOKEN = os.getenv(\"TWITTER_API_BEARER_TOKEN\")\n",
    "CLOUD_STORAGE_BUCKET = os.getenv(\"CLOUD_STORAGE_BUCKET\")\n",
    "TWITTER_USERNAME=os.getenv(\"TWITTER_USERNAME\")\n",
    "TWITTER_USER_ID=os.getenv(\"TWITTER_FOCAL_NODE_ID\")\n",
    "\n",
    "client = tweepy.Client(TWITTER_API_BEARER_TOKEN, wait_on_rate_limit=True)"
   ]
  },
  {
   "cell_type": "markdown",
   "id": "e95c3d6d-03cf-4f8f-a000-79c77b78a754",
   "metadata": {
    "tags": []
   },
   "source": [
    "## **Read**\n"
   ]
  },
  {
   "cell_type": "markdown",
   "id": "4d5d3628-11ac-4f68-8c6c-11f6f4c6516b",
   "metadata": {
    "tags": []
   },
   "source": [
    "### **Node Centrality (Subset)**\n"
   ]
  },
  {
   "cell_type": "code",
   "execution_count": 123,
   "id": "d6bd5132-a88d-4cdc-97d4-d936d8d3e659",
   "metadata": {},
   "outputs": [
    {
     "name": "stdout",
     "output_type": "stream",
     "text": [
      "(1117046, 3)\n"
     ]
    },
    {
     "data": {
      "text/html": [
       "<div>\n",
       "<style scoped>\n",
       "    .dataframe tbody tr th:only-of-type {\n",
       "        vertical-align: middle;\n",
       "    }\n",
       "\n",
       "    .dataframe tbody tr th {\n",
       "        vertical-align: top;\n",
       "    }\n",
       "\n",
       "    .dataframe thead th {\n",
       "        text-align: right;\n",
       "    }\n",
       "</style>\n",
       "<table border=\"1\" class=\"dataframe\">\n",
       "  <thead>\n",
       "    <tr style=\"text-align: right;\">\n",
       "      <th></th>\n",
       "      <th>measure_name</th>\n",
       "      <th>node</th>\n",
       "      <th>measure_value</th>\n",
       "    </tr>\n",
       "  </thead>\n",
       "  <tbody>\n",
       "    <tr>\n",
       "      <th>0</th>\n",
       "      <td>pagerank</td>\n",
       "      <td>44196397</td>\n",
       "      <td>0.000015</td>\n",
       "    </tr>\n",
       "    <tr>\n",
       "      <th>1</th>\n",
       "      <td>pagerank</td>\n",
       "      <td>433365936</td>\n",
       "      <td>0.000012</td>\n",
       "    </tr>\n",
       "    <tr>\n",
       "      <th>2</th>\n",
       "      <td>pagerank</td>\n",
       "      <td>2248872301</td>\n",
       "      <td>0.000012</td>\n",
       "    </tr>\n",
       "    <tr>\n",
       "      <th>3</th>\n",
       "      <td>pagerank</td>\n",
       "      <td>35761106</td>\n",
       "      <td>0.000012</td>\n",
       "    </tr>\n",
       "    <tr>\n",
       "      <th>4</th>\n",
       "      <td>pagerank</td>\n",
       "      <td>1542483269542940679</td>\n",
       "      <td>0.000012</td>\n",
       "    </tr>\n",
       "  </tbody>\n",
       "</table>\n",
       "</div>"
      ],
      "text/plain": [
       "  measure_name                 node  measure_value\n",
       "0     pagerank             44196397       0.000015\n",
       "1     pagerank            433365936       0.000012\n",
       "2     pagerank           2248872301       0.000012\n",
       "3     pagerank             35761106       0.000012\n",
       "4     pagerank  1542483269542940679       0.000012"
      ]
     },
     "execution_count": 123,
     "metadata": {},
     "output_type": "execute_result"
    },
    {
     "name": "stdout",
     "output_type": "stream",
     "text": [
      "time: 4.73 s (started: 2022-12-31 15:24:59 -05:00)\n"
     ]
    }
   ],
   "source": [
    "df_cen = dd.read_csv(f\"{CLOUD_STORAGE_BUCKET}/measures/node/node_measures.csv\").compute()\n",
    "print(df_cen.shape)\n",
    "df_cen.head()"
   ]
  },
  {
   "cell_type": "code",
   "execution_count": 129,
   "id": "f9118103-a07d-44e4-8c94-67f215facb7d",
   "metadata": {},
   "outputs": [
    {
     "data": {
      "text/html": [
       "<div>\n",
       "<style scoped>\n",
       "    .dataframe tbody tr th:only-of-type {\n",
       "        vertical-align: middle;\n",
       "    }\n",
       "\n",
       "    .dataframe tbody tr th {\n",
       "        vertical-align: top;\n",
       "    }\n",
       "\n",
       "    .dataframe thead th {\n",
       "        text-align: right;\n",
       "    }\n",
       "</style>\n",
       "<table border=\"1\" class=\"dataframe\">\n",
       "  <thead>\n",
       "    <tr style=\"text-align: right;\">\n",
       "      <th></th>\n",
       "      <th>user</th>\n",
       "      <th>following</th>\n",
       "    </tr>\n",
       "  </thead>\n",
       "  <tbody>\n",
       "    <tr>\n",
       "      <th>228</th>\n",
       "      <td>1427408443296657408</td>\n",
       "      <td>62513246</td>\n",
       "    </tr>\n",
       "    <tr>\n",
       "      <th>228</th>\n",
       "      <td>1427408443296657408</td>\n",
       "      <td>859816394556284929</td>\n",
       "    </tr>\n",
       "    <tr>\n",
       "      <th>228</th>\n",
       "      <td>1427408443296657408</td>\n",
       "      <td>20601296</td>\n",
       "    </tr>\n",
       "    <tr>\n",
       "      <th>228</th>\n",
       "      <td>1427408443296657408</td>\n",
       "      <td>1105508110213545984</td>\n",
       "    </tr>\n",
       "    <tr>\n",
       "      <th>228</th>\n",
       "      <td>1427408443296657408</td>\n",
       "      <td>235348644</td>\n",
       "    </tr>\n",
       "    <tr>\n",
       "      <th>...</th>\n",
       "      <td>...</td>\n",
       "      <td>...</td>\n",
       "    </tr>\n",
       "    <tr>\n",
       "      <th>228</th>\n",
       "      <td>1427408443296657408</td>\n",
       "      <td>3289153303</td>\n",
       "    </tr>\n",
       "    <tr>\n",
       "      <th>228</th>\n",
       "      <td>1427408443296657408</td>\n",
       "      <td>823518894182846464</td>\n",
       "    </tr>\n",
       "    <tr>\n",
       "      <th>228</th>\n",
       "      <td>1427408443296657408</td>\n",
       "      <td>753617640355012608</td>\n",
       "    </tr>\n",
       "    <tr>\n",
       "      <th>228</th>\n",
       "      <td>1427408443296657408</td>\n",
       "      <td>4398626122</td>\n",
       "    </tr>\n",
       "    <tr>\n",
       "      <th>228</th>\n",
       "      <td>1427408443296657408</td>\n",
       "      <td>1507877608222076940</td>\n",
       "    </tr>\n",
       "  </tbody>\n",
       "</table>\n",
       "<p>2736 rows × 2 columns</p>\n",
       "</div>"
      ],
      "text/plain": [
       "                    user            following\n",
       "228  1427408443296657408             62513246\n",
       "228  1427408443296657408   859816394556284929\n",
       "228  1427408443296657408             20601296\n",
       "228  1427408443296657408  1105508110213545984\n",
       "228  1427408443296657408            235348644\n",
       "..                   ...                  ...\n",
       "228  1427408443296657408           3289153303\n",
       "228  1427408443296657408   823518894182846464\n",
       "228  1427408443296657408   753617640355012608\n",
       "228  1427408443296657408           4398626122\n",
       "228  1427408443296657408  1507877608222076940\n",
       "\n",
       "[2736 rows x 2 columns]"
      ]
     },
     "execution_count": 129,
     "metadata": {},
     "output_type": "execute_result"
    },
    {
     "name": "stdout",
     "output_type": "stream",
     "text": [
      "time: 5.33 ms (started: 2022-12-31 15:26:29 -05:00)\n"
     ]
    }
   ],
   "source": [
    "df[df.user==1427408443296657408]"
   ]
  },
  {
   "cell_type": "markdown",
   "id": "91e8a633-4d87-4cbf-8f69-c33f3ab8ea17",
   "metadata": {
    "tags": []
   },
   "source": [
    "### **Node Features**\n"
   ]
  },
  {
   "cell_type": "code",
   "execution_count": 125,
   "id": "124dce70-90c4-4ce0-a6ad-ed0275c43766",
   "metadata": {},
   "outputs": [
    {
     "name": "stdout",
     "output_type": "stream",
     "text": [
      "(206090, 7)\n"
     ]
    },
    {
     "data": {
      "text/html": [
       "<div>\n",
       "<style scoped>\n",
       "    .dataframe tbody tr th:only-of-type {\n",
       "        vertical-align: middle;\n",
       "    }\n",
       "\n",
       "    .dataframe tbody tr th {\n",
       "        vertical-align: top;\n",
       "    }\n",
       "\n",
       "    .dataframe thead th {\n",
       "        text-align: right;\n",
       "    }\n",
       "</style>\n",
       "<table border=\"1\" class=\"dataframe\">\n",
       "  <thead>\n",
       "    <tr style=\"text-align: right;\">\n",
       "      <th></th>\n",
       "      <th>id</th>\n",
       "      <th>name</th>\n",
       "      <th>profile_image_url</th>\n",
       "      <th>public_metrics</th>\n",
       "      <th>username</th>\n",
       "      <th>verified</th>\n",
       "      <th>withheld</th>\n",
       "    </tr>\n",
       "  </thead>\n",
       "  <tbody>\n",
       "    <tr>\n",
       "      <th>0</th>\n",
       "      <td>794433401591693312</td>\n",
       "      <td>Aran Komatsuzaki</td>\n",
       "      <td>https://pbs.twimg.com/profile_images/150798283...</td>\n",
       "      <td>{'followers_count': 16111, 'following_count': ...</td>\n",
       "      <td>arankomatsuzaki</td>\n",
       "      <td>False</td>\n",
       "      <td>NaN</td>\n",
       "    </tr>\n",
       "    <tr>\n",
       "      <th>1</th>\n",
       "      <td>2509504696</td>\n",
       "      <td>Jericho Brown</td>\n",
       "      <td>https://pbs.twimg.com/profile_images/111968593...</td>\n",
       "      <td>{'followers_count': 40468, 'following_count': ...</td>\n",
       "      <td>jerichobrown</td>\n",
       "      <td>True</td>\n",
       "      <td>NaN</td>\n",
       "    </tr>\n",
       "    <tr>\n",
       "      <th>2</th>\n",
       "      <td>1938030980</td>\n",
       "      <td>Angel Wicky</td>\n",
       "      <td>https://pbs.twimg.com/profile_images/144139505...</td>\n",
       "      <td>{'followers_count': 355162, 'following_count':...</td>\n",
       "      <td>Angel_Wicky_II</td>\n",
       "      <td>True</td>\n",
       "      <td>NaN</td>\n",
       "    </tr>\n",
       "    <tr>\n",
       "      <th>3</th>\n",
       "      <td>335544910</td>\n",
       "      <td>AC Justice Project</td>\n",
       "      <td>https://pbs.twimg.com/profile_images/145415812...</td>\n",
       "      <td>{'followers_count': 1049, 'following_count': 4...</td>\n",
       "      <td>ACJProject</td>\n",
       "      <td>False</td>\n",
       "      <td>NaN</td>\n",
       "    </tr>\n",
       "    <tr>\n",
       "      <th>4</th>\n",
       "      <td>2622261</td>\n",
       "      <td>Brian Ulicny</td>\n",
       "      <td>https://pbs.twimg.com/profile_images/730781652...</td>\n",
       "      <td>{'followers_count': 796, 'following_count': 24...</td>\n",
       "      <td>bulicny</td>\n",
       "      <td>False</td>\n",
       "      <td>NaN</td>\n",
       "    </tr>\n",
       "  </tbody>\n",
       "</table>\n",
       "</div>"
      ],
      "text/plain": [
       "                   id                name  \\\n",
       "0  794433401591693312    Aran Komatsuzaki   \n",
       "1          2509504696       Jericho Brown   \n",
       "2          1938030980         Angel Wicky   \n",
       "3           335544910  AC Justice Project   \n",
       "4             2622261        Brian Ulicny   \n",
       "\n",
       "                                   profile_image_url  \\\n",
       "0  https://pbs.twimg.com/profile_images/150798283...   \n",
       "1  https://pbs.twimg.com/profile_images/111968593...   \n",
       "2  https://pbs.twimg.com/profile_images/144139505...   \n",
       "3  https://pbs.twimg.com/profile_images/145415812...   \n",
       "4  https://pbs.twimg.com/profile_images/730781652...   \n",
       "\n",
       "                                      public_metrics         username  \\\n",
       "0  {'followers_count': 16111, 'following_count': ...  arankomatsuzaki   \n",
       "1  {'followers_count': 40468, 'following_count': ...     jerichobrown   \n",
       "2  {'followers_count': 355162, 'following_count':...   Angel_Wicky_II   \n",
       "3  {'followers_count': 1049, 'following_count': 4...       ACJProject   \n",
       "4  {'followers_count': 796, 'following_count': 24...          bulicny   \n",
       "\n",
       "   verified withheld  \n",
       "0     False      NaN  \n",
       "1      True      NaN  \n",
       "2      True      NaN  \n",
       "3     False      NaN  \n",
       "4     False      NaN  "
      ]
     },
     "execution_count": 125,
     "metadata": {},
     "output_type": "execute_result"
    },
    {
     "name": "stdout",
     "output_type": "stream",
     "text": [
      "time: 6.23 s (started: 2022-12-31 15:25:31 -05:00)\n"
     ]
    }
   ],
   "source": [
    "nodes = dd.read_csv(f\"{CLOUD_STORAGE_BUCKET}/features/node/node_features*.csv\", dtype={'withheld': 'object'}).compute()\n",
    "print(nodes.shape)\n",
    "nodes.head()"
   ]
  },
  {
   "cell_type": "markdown",
   "id": "af89e82e-cceb-44e2-b185-0b130f3a3368",
   "metadata": {
    "tags": []
   },
   "source": [
    "### **Graph**\n"
   ]
  },
  {
   "cell_type": "code",
   "execution_count": 5,
   "id": "f65f8e1f-8110-4ef4-9e28-dbce7d248f2d",
   "metadata": {},
   "outputs": [
    {
     "name": "stdout",
     "output_type": "stream",
     "text": [
      "(239795, 2) (240033, 3)\n",
      "Nodes: 159578, Edges: 237327\n"
     ]
    },
    {
     "data": {
      "text/html": [
       "<div>\n",
       "<style scoped>\n",
       "    .dataframe tbody tr th:only-of-type {\n",
       "        vertical-align: middle;\n",
       "    }\n",
       "\n",
       "    .dataframe tbody tr th {\n",
       "        vertical-align: top;\n",
       "    }\n",
       "\n",
       "    .dataframe thead th {\n",
       "        text-align: right;\n",
       "    }\n",
       "</style>\n",
       "<table border=\"1\" class=\"dataframe\">\n",
       "  <thead>\n",
       "    <tr style=\"text-align: right;\">\n",
       "      <th></th>\n",
       "      <th>user</th>\n",
       "      <th>following</th>\n",
       "    </tr>\n",
       "  </thead>\n",
       "  <tbody>\n",
       "    <tr>\n",
       "      <th>0</th>\n",
       "      <td>12</td>\n",
       "      <td>69170362</td>\n",
       "    </tr>\n",
       "    <tr>\n",
       "      <th>0</th>\n",
       "      <td>12</td>\n",
       "      <td>1499167615121387522</td>\n",
       "    </tr>\n",
       "    <tr>\n",
       "      <th>0</th>\n",
       "      <td>12</td>\n",
       "      <td>594103</td>\n",
       "    </tr>\n",
       "    <tr>\n",
       "      <th>0</th>\n",
       "      <td>12</td>\n",
       "      <td>58868301</td>\n",
       "    </tr>\n",
       "    <tr>\n",
       "      <th>0</th>\n",
       "      <td>12</td>\n",
       "      <td>721049861399949313</td>\n",
       "    </tr>\n",
       "  </tbody>\n",
       "</table>\n",
       "</div>"
      ],
      "text/plain": [
       "   user            following\n",
       "0    12             69170362\n",
       "0    12  1499167615121387522\n",
       "0    12               594103\n",
       "0    12             58868301\n",
       "0    12   721049861399949313"
      ]
     },
     "execution_count": 5,
     "metadata": {},
     "output_type": "execute_result"
    },
    {
     "name": "stdout",
     "output_type": "stream",
     "text": [
      "time: 5.45 s (started: 2022-12-31 00:33:22 -05:00)\n"
     ]
    }
   ],
   "source": [
    "df = dd.read_csv(f\"{CLOUD_STORAGE_BUCKET}/ties/ties*.csv\").compute()\n",
    "df.following = df.following.apply(ast.literal_eval)\n",
    "df = df.explode('following')\n",
    "\n",
    "#if you need a full graph including the user\n",
    "user = client.get_user(\n",
    "    username=TWITTER_USERNAME,\n",
    "    user_fields=[\"id\"],\n",
    ").data.id\n",
    "df_following = df.copy().dropna()\n",
    "df_user = pd.DataFrame({\"user\": user, \"following\": df_following.user.unique()})\n",
    "df_with_user = pd.concat([df_user, df_following])\n",
    "\n",
    "#create  a graph\n",
    "edges = df_with_user.copy().dropna()\n",
    "edges.columns = ['source', 'target']\n",
    "edges['source'] = edges['source'].astype(int)\n",
    "edges['target'] = edges['target'].astype(int)\n",
    "edges['weight'] = 1\n",
    "print(df.shape, edges.shape)\n",
    "\n",
    "G = nx.from_pandas_edgelist(\n",
    "    edges,\n",
    "    create_using=nx.DiGraph(),\n",
    "    edge_attr=True\n",
    ")\n",
    "print(f\"Nodes: {len(G.nodes())}, Edges: {len(G.edges())}\")\n",
    "df.head()"
   ]
  },
  {
   "cell_type": "code",
   "execution_count": 18,
   "id": "aea70cff-9dcd-4405-9f07-5e4c66659240",
   "metadata": {},
   "outputs": [
    {
     "name": "stdout",
     "output_type": "stream",
     "text": [
      "time: 964 ms (started: 2022-12-31 00:38:04 -05:00)\n"
     ]
    }
   ],
   "source": [
    "c_s = list(nx.strongly_connected_components(G))\n",
    "c_s.sort(key=len, reverse=True)"
   ]
  },
  {
   "cell_type": "markdown",
   "id": "07c6acfd-09af-4f5e-909c-938863277955",
   "metadata": {
    "tags": []
   },
   "source": [
    "## **Statuses & Retweets**"
   ]
  },
  {
   "cell_type": "code",
   "execution_count": 20,
   "id": "4d75df63-5ad4-41c2-a435-ac5c79f08d28",
   "metadata": {},
   "outputs": [
    {
     "name": "stdout",
     "output_type": "stream",
     "text": [
      "time: 1.42 ms (started: 2022-12-31 00:41:57 -05:00)\n"
     ]
    }
   ],
   "source": [
    "def authenticate(api_bearer_token):\n",
    "    import tweepy\n",
    "\n",
    "    client = tweepy.Client(api_bearer_token, wait_on_rate_limit=True)\n",
    "    return client\n",
    "\n",
    "\n",
    "def get_users(client, user_fields, user_names=None, user_ids=None):\n",
    "\n",
    "    if user_ids:\n",
    "        return client.get_users(\n",
    "            ids=user_ids,\n",
    "            user_fields=user_fields,\n",
    "        ).data\n",
    "    elif user_names:\n",
    "        return client.get_users(\n",
    "            usernames=user_names,\n",
    "            user_fields=user_fields,\n",
    "        ).data\n",
    "    else:\n",
    "        raise ValueError(\n",
    "            \"Either one of user_names or user_ids should be provided\"\n",
    "        )\n",
    "def get_users_following(\n",
    "    client, user_id, max_results=1000, total_limit=5000, sleep_time=0.1\n",
    "):\n",
    "    import tweepy\n",
    "\n",
    "    following = []\n",
    "    for neighbor in tweepy.Paginator(\n",
    "        client.get_users_following, id=user_id, max_results=max_results\n",
    "    ).flatten(limit=total_limit):\n",
    "        time.sleep(sleep_time)\n",
    "        following.append(neighbor.id)\n",
    "    print(f\"User: {user_id}, Following: {len(following)}\")\n",
    "    return {\"user\": user_id, \"following\": following}"
   ]
  },
  {
   "cell_type": "code",
   "execution_count": 28,
   "id": "6d591901-60bb-4ce3-ab2b-d6408cf3ce8c",
   "metadata": {},
   "outputs": [
    {
     "name": "stdout",
     "output_type": "stream",
     "text": [
      "User: 1427408443296657408, Following: 241\n"
     ]
    },
    {
     "data": {
      "text/plain": [
       "241"
      ]
     },
     "execution_count": 28,
     "metadata": {},
     "output_type": "execute_result"
    },
    {
     "name": "stdout",
     "output_type": "stream",
     "text": [
      "time: 24.4 s (started: 2022-12-31 00:43:10 -05:00)\n"
     ]
    }
   ],
   "source": [
    "import time\n",
    "user_d1_nodes = get_users_following(client, user_id=TWITTER_USER_ID)\n",
    "len(user_d1_nodes.get('following'))"
   ]
  },
  {
   "cell_type": "code",
   "execution_count": 65,
   "id": "78485492-9986-424f-bc37-0e1a92328ef5",
   "metadata": {},
   "outputs": [
    {
     "data": {
      "text/html": [
       "<div>\n",
       "<style scoped>\n",
       "    .dataframe tbody tr th:only-of-type {\n",
       "        vertical-align: middle;\n",
       "    }\n",
       "\n",
       "    .dataframe tbody tr th {\n",
       "        vertical-align: top;\n",
       "    }\n",
       "\n",
       "    .dataframe thead th {\n",
       "        text-align: right;\n",
       "    }\n",
       "</style>\n",
       "<table border=\"1\" class=\"dataframe\">\n",
       "  <thead>\n",
       "    <tr style=\"text-align: right;\">\n",
       "      <th></th>\n",
       "      <th>id</th>\n",
       "      <th>name</th>\n",
       "      <th>profile_image_url</th>\n",
       "      <th>public_metrics</th>\n",
       "      <th>username</th>\n",
       "      <th>verified</th>\n",
       "      <th>withheld</th>\n",
       "    </tr>\n",
       "  </thead>\n",
       "  <tbody>\n",
       "    <tr>\n",
       "      <th>125108</th>\n",
       "      <td>850892377627742209</td>\n",
       "      <td>Tyler Derr</td>\n",
       "      <td>https://pbs.twimg.com/profile_images/133466196...</td>\n",
       "      <td>{'followers_count': 1034, 'following_count': 9...</td>\n",
       "      <td>TylersNetwork</td>\n",
       "      <td>False</td>\n",
       "      <td>NaN</td>\n",
       "    </tr>\n",
       "    <tr>\n",
       "      <th>198490</th>\n",
       "      <td>998327796672811008</td>\n",
       "      <td>ClarkeMD</td>\n",
       "      <td>https://pbs.twimg.com/profile_images/998329452...</td>\n",
       "      <td>{'followers_count': 46398, 'following_count': ...</td>\n",
       "      <td>MdTeryn</td>\n",
       "      <td>False</td>\n",
       "      <td>NaN</td>\n",
       "    </tr>\n",
       "    <tr>\n",
       "      <th>90508</th>\n",
       "      <td>2413696970</td>\n",
       "      <td>Technoblade</td>\n",
       "      <td>https://pbs.twimg.com/profile_images/128495990...</td>\n",
       "      <td>{'followers_count': 3587760, 'following_count'...</td>\n",
       "      <td>Technothepig</td>\n",
       "      <td>True</td>\n",
       "      <td>NaN</td>\n",
       "    </tr>\n",
       "    <tr>\n",
       "      <th>105876</th>\n",
       "      <td>759140784180457472</td>\n",
       "      <td>Neeraj Salvankar</td>\n",
       "      <td>https://pbs.twimg.com/profile_images/151260896...</td>\n",
       "      <td>{'followers_count': 72, 'following_count': 215...</td>\n",
       "      <td>neerajsal1kar</td>\n",
       "      <td>False</td>\n",
       "      <td>NaN</td>\n",
       "    </tr>\n",
       "    <tr>\n",
       "      <th>104531</th>\n",
       "      <td>198588215</td>\n",
       "      <td>Optimus Prime</td>\n",
       "      <td>https://pbs.twimg.com/profile_images/146904969...</td>\n",
       "      <td>{'followers_count': 678, 'following_count': 50...</td>\n",
       "      <td>TemporalAnalyst</td>\n",
       "      <td>False</td>\n",
       "      <td>NaN</td>\n",
       "    </tr>\n",
       "  </tbody>\n",
       "</table>\n",
       "</div>"
      ],
      "text/plain": [
       "                        id              name  \\\n",
       "125108  850892377627742209        Tyler Derr   \n",
       "198490  998327796672811008          ClarkeMD   \n",
       "90508           2413696970       Technoblade   \n",
       "105876  759140784180457472  Neeraj Salvankar   \n",
       "104531           198588215     Optimus Prime   \n",
       "\n",
       "                                        profile_image_url  \\\n",
       "125108  https://pbs.twimg.com/profile_images/133466196...   \n",
       "198490  https://pbs.twimg.com/profile_images/998329452...   \n",
       "90508   https://pbs.twimg.com/profile_images/128495990...   \n",
       "105876  https://pbs.twimg.com/profile_images/151260896...   \n",
       "104531  https://pbs.twimg.com/profile_images/146904969...   \n",
       "\n",
       "                                           public_metrics         username  \\\n",
       "125108  {'followers_count': 1034, 'following_count': 9...    TylersNetwork   \n",
       "198490  {'followers_count': 46398, 'following_count': ...          MdTeryn   \n",
       "90508   {'followers_count': 3587760, 'following_count'...     Technothepig   \n",
       "105876  {'followers_count': 72, 'following_count': 215...    neerajsal1kar   \n",
       "104531  {'followers_count': 678, 'following_count': 50...  TemporalAnalyst   \n",
       "\n",
       "        verified withheld  \n",
       "125108     False      NaN  \n",
       "198490     False      NaN  \n",
       "90508       True      NaN  \n",
       "105876     False      NaN  \n",
       "104531     False      NaN  "
      ]
     },
     "execution_count": 65,
     "metadata": {},
     "output_type": "execute_result"
    },
    {
     "name": "stdout",
     "output_type": "stream",
     "text": [
      "time: 7.77 ms (started: 2022-12-31 01:14:24 -05:00)\n"
     ]
    }
   ],
   "source": [
    "nodes.sample(5)"
   ]
  },
  {
   "cell_type": "code",
   "execution_count": 36,
   "id": "06e58299-2949-465c-8e21-399ed76ac8ea",
   "metadata": {},
   "outputs": [
    {
     "data": {
      "text/plain": [
       "[<Tweet id=1608402302234234880 text='Join me by the pool 😎\\n\\n#italy #travelblogger #traveler #traveling #travelling #traveler #travellife #europe #europeunion #europeanart #milan #milano #roma #rome #vacation #vacations #Italian #playboy #fhm #magazine https://t.co/UsrcBSeWw2'>,\n",
       " <Tweet id=1606560242917056512 text='Wishing you beautiful and peaceful Christmas filled with love 🤗❤️🎄🎁\\nPřeji vám krásné a klidně Vánoce plné lásky 🤗❤️🎄🎁\\n\\n#christmas #Christmasgifts #MerryChristmas #horsegirl #horses #horse #horselover #horselovers #horsetrainer #animallover #rescueanimal https://t.co/6NypbtN2Aw'>,\n",
       " <Tweet id=1606408122142269463 text='Christmas liveshow is coming this Sunday!😎🤶🎄🎁\\nFrom 9pm cet at https://t.co/Od0lp4hwNh @SecretFriendsX https://t.co/WKyaYdSnnL'>,\n",
       " <Tweet id=1605634142309318666 text='I’ve been asked what I want for Christmas, new year, birthday etc… ?? https://t.co/jCW8BKies7'>,\n",
       " <Tweet id=1605523356802916354 text='MUST SEE! Double penetration for Christmas 😱😎🍆🍆😜😋💦💦 Watch it now on my 👉\\nhttps://t.co/KFIif3nBc6 and https://t.co/RrA4mnU0f0\\nwith @StanleyJohnsonG  @GeorgeBrownLive https://t.co/hCrPbKaqe4'>,\n",
       " <Tweet id=1605316280927543297 text='Christmas liveshow is coming this Sunday!😎🤶🎄🎁\\nFrom 9pm cet at https://t.co/Od0lp4hwNh @SecretFriendsX https://t.co/UCQtQWaMq2'>,\n",
       " <Tweet id=1605168201066651648 text='GABRIEL FRANCO PLEASE WRITE ME. Your package has been shipped but I can’t find you in my messages. Please write me on https://t.co/hY35Ct3zWl , https://t.co/B4m2kUkyW9 or info@angelwickyofficial \\nThank you 🙏'>,\n",
       " <Tweet id=1604933138710351873 text='1 or 2? 😈😍😜\\n\\n#fitnessmotivation #fitgirls #fitgirl #getfit #fitnesslife #fitnessaddict #fitchick #fitgoals #fitnessgoal #fitnessgoals #fitnessgirl #fitnessjourney #fitnessfreak #fitspo #fitstagram #fitinspiration #london #unitedkingdom #greatbritain #londoncity #london https://t.co/BanqwLoQRy'>,\n",
       " <Tweet id=1603507658086031373 text='In bathtub, exhausted, sad and happy in the same time. The London trip was incredible and I’m so grateful I was able to help so much people with their physical, mental, emotional and spiritual struggles. Thank you for choosing me, trusting me and sharing your life with me❤️🤗🙏'>,\n",
       " <Tweet id=1603019300851302416 text='RT @SecretFriendsX: Preview of @Angel_Wicky_II Wicked Sundays Solo Oil Show 💦💦\\n\\nWatch it all on https://t.co/odx7pSyo2m 🔥 https://t.co/nLKb…'>]"
      ]
     },
     "execution_count": 36,
     "metadata": {},
     "output_type": "execute_result"
    },
    {
     "name": "stdout",
     "output_type": "stream",
     "text": [
      "time: 233 ms (started: 2022-12-31 00:49:29 -05:00)\n"
     ]
    }
   ],
   "source": [
    "# test_users= user_d1_nodes.get('following')\n",
    "test_users = [1938030980]#, 1433718835127926787, 2465283662]\n",
    "def get_content_type(\n",
    "                    user_id, \n",
    "                     content_type = \"tweets\", \n",
    "                     tweet_fields=['context_annotations','in_reply_to_user_id','public_metrics','entities','created_at']):\n",
    "    if content_type == \"tweets\":\n",
    "        return client.get_users_tweets(id=user_id, tweet_fields=tweet_fields).data\n",
    "    elif content_type == \"mentions\":\n",
    "        return client.get_users_mentions(id=user_id, tweet_fields=tweet_fields).data\n",
    "    elif content_type == \"likes\":\n",
    "        return client.get_liked_tweets(id=user_id, tweet_fields=tweet_fields).data\n",
    "    \n",
    "d = get_content_type(user_id=test_users[0], content_type=\"tweets\")\n",
    "d"
   ]
  },
  {
   "cell_type": "code",
   "execution_count": 116,
   "id": "a16507ab-f55d-478e-a748-b052e824ffc6",
   "metadata": {},
   "outputs": [
    {
     "name": "stdout",
     "output_type": "stream",
     "text": [
      "users:0/241\n",
      "users:1/241\n",
      "users:2/241\n",
      "users:3/241\n",
      "users:4/241\n",
      "tweets: (34, 8)\n",
      "users:0/241\n",
      "users:1/241\n",
      "users:2/241\n",
      "users:3/241\n",
      "users:4/241\n",
      "mentions: (82, 8)\n",
      "users:0/241\n",
      "users:1/241\n",
      "users:2/241\n",
      "users:3/241\n",
      "users:4/241\n",
      "likes: (257, 8)\n",
      "likes: (257, 8)\n"
     ]
    },
    {
     "data": {
      "text/html": [
       "<div>\n",
       "<style scoped>\n",
       "    .dataframe tbody tr th:only-of-type {\n",
       "        vertical-align: middle;\n",
       "    }\n",
       "\n",
       "    .dataframe tbody tr th {\n",
       "        vertical-align: top;\n",
       "    }\n",
       "\n",
       "    .dataframe thead th {\n",
       "        text-align: right;\n",
       "    }\n",
       "</style>\n",
       "<table border=\"1\" class=\"dataframe\">\n",
       "  <thead>\n",
       "    <tr style=\"text-align: right;\">\n",
       "      <th></th>\n",
       "      <th>user_id</th>\n",
       "      <th>timestamp</th>\n",
       "      <th>tweet_id</th>\n",
       "      <th>content</th>\n",
       "      <th>public_metrics</th>\n",
       "      <th>in_reply_to_user_id</th>\n",
       "      <th>hashtags</th>\n",
       "      <th>context</th>\n",
       "    </tr>\n",
       "  </thead>\n",
       "  <tbody>\n",
       "    <tr>\n",
       "      <th>247</th>\n",
       "      <td>1067218780806307841</td>\n",
       "      <td>2022-09-21 22:41:31+00:00</td>\n",
       "      <td>1572717691219345408</td>\n",
       "      <td>likes</td>\n",
       "      <td>{'retweet_count': 5, 'reply_count': 5, 'like_c...</td>\n",
       "      <td>None</td>\n",
       "      <td>[PostdocJEDIChampions22, StanfordAIMI]</td>\n",
       "      <td>[entertainment &amp; leisure business, star wars, ...</td>\n",
       "    </tr>\n",
       "    <tr>\n",
       "      <th>248</th>\n",
       "      <td>1067218780806307841</td>\n",
       "      <td>2022-09-21 18:33:47+00:00</td>\n",
       "      <td>1572655345075638275</td>\n",
       "      <td>likes</td>\n",
       "      <td>{'retweet_count': 0, 'reply_count': 0, 'like_c...</td>\n",
       "      <td>1067218780806307841</td>\n",
       "      <td>[]</td>\n",
       "      <td>[midjourney, digital artwork, ai image generat...</td>\n",
       "    </tr>\n",
       "    <tr>\n",
       "      <th>249</th>\n",
       "      <td>1067218780806307841</td>\n",
       "      <td>2022-09-21 18:27:35+00:00</td>\n",
       "      <td>1572653783850840064</td>\n",
       "      <td>likes</td>\n",
       "      <td>{'retweet_count': 0, 'reply_count': 0, 'like_c...</td>\n",
       "      <td>1067218780806307841</td>\n",
       "      <td>[]</td>\n",
       "      <td>[]</td>\n",
       "    </tr>\n",
       "    <tr>\n",
       "      <th>250</th>\n",
       "      <td>1067218780806307841</td>\n",
       "      <td>2022-09-19 22:43:29+00:00</td>\n",
       "      <td>1571993409694609408</td>\n",
       "      <td>likes</td>\n",
       "      <td>{'retweet_count': 6, 'reply_count': 0, 'like_c...</td>\n",
       "      <td>None</td>\n",
       "      <td>[NLProc]</td>\n",
       "      <td>[technology business]</td>\n",
       "    </tr>\n",
       "    <tr>\n",
       "      <th>251</th>\n",
       "      <td>1067218780806307841</td>\n",
       "      <td>2022-09-20 04:07:07+00:00</td>\n",
       "      <td>1572074854459019265</td>\n",
       "      <td>likes</td>\n",
       "      <td>{'retweet_count': 0, 'reply_count': 1, 'like_c...</td>\n",
       "      <td>1239836152418299904</td>\n",
       "      <td>[]</td>\n",
       "      <td>[]</td>\n",
       "    </tr>\n",
       "    <tr>\n",
       "      <th>252</th>\n",
       "      <td>1067218780806307841</td>\n",
       "      <td>2022-09-20 04:03:23+00:00</td>\n",
       "      <td>1572073913391394816</td>\n",
       "      <td>likes</td>\n",
       "      <td>{'retweet_count': 0, 'reply_count': 1, 'like_c...</td>\n",
       "      <td>1067218780806307841</td>\n",
       "      <td>[]</td>\n",
       "      <td>[]</td>\n",
       "    </tr>\n",
       "    <tr>\n",
       "      <th>253</th>\n",
       "      <td>1067218780806307841</td>\n",
       "      <td>2022-09-19 14:58:20+00:00</td>\n",
       "      <td>1571876349169508352</td>\n",
       "      <td>likes</td>\n",
       "      <td>{'retweet_count': 10, 'reply_count': 1, 'like_...</td>\n",
       "      <td>None</td>\n",
       "      <td>[]</td>\n",
       "      <td>[]</td>\n",
       "    </tr>\n",
       "    <tr>\n",
       "      <th>254</th>\n",
       "      <td>1067218780806307841</td>\n",
       "      <td>2022-09-14 02:33:12+00:00</td>\n",
       "      <td>1569876891338969090</td>\n",
       "      <td>likes</td>\n",
       "      <td>{'retweet_count': 2, 'reply_count': 0, 'like_c...</td>\n",
       "      <td>None</td>\n",
       "      <td>[]</td>\n",
       "      <td>[technology business, economics]</td>\n",
       "    </tr>\n",
       "    <tr>\n",
       "      <th>255</th>\n",
       "      <td>1067218780806307841</td>\n",
       "      <td>2022-09-16 00:56:16+00:00</td>\n",
       "      <td>1570577273857929217</td>\n",
       "      <td>likes</td>\n",
       "      <td>{'retweet_count': 10, 'reply_count': 0, 'like_...</td>\n",
       "      <td>None</td>\n",
       "      <td>[]</td>\n",
       "      <td>[stanford university, stanford university, gov...</td>\n",
       "    </tr>\n",
       "    <tr>\n",
       "      <th>256</th>\n",
       "      <td>1067218780806307841</td>\n",
       "      <td>2022-09-15 20:51:45+00:00</td>\n",
       "      <td>1570515737856577536</td>\n",
       "      <td>likes</td>\n",
       "      <td>{'retweet_count': 100, 'reply_count': 5, 'like...</td>\n",
       "      <td>None</td>\n",
       "      <td>[]</td>\n",
       "      <td>[]</td>\n",
       "    </tr>\n",
       "  </tbody>\n",
       "</table>\n",
       "</div>"
      ],
      "text/plain": [
       "                 user_id                 timestamp             tweet_id  \\\n",
       "247  1067218780806307841 2022-09-21 22:41:31+00:00  1572717691219345408   \n",
       "248  1067218780806307841 2022-09-21 18:33:47+00:00  1572655345075638275   \n",
       "249  1067218780806307841 2022-09-21 18:27:35+00:00  1572653783850840064   \n",
       "250  1067218780806307841 2022-09-19 22:43:29+00:00  1571993409694609408   \n",
       "251  1067218780806307841 2022-09-20 04:07:07+00:00  1572074854459019265   \n",
       "252  1067218780806307841 2022-09-20 04:03:23+00:00  1572073913391394816   \n",
       "253  1067218780806307841 2022-09-19 14:58:20+00:00  1571876349169508352   \n",
       "254  1067218780806307841 2022-09-14 02:33:12+00:00  1569876891338969090   \n",
       "255  1067218780806307841 2022-09-16 00:56:16+00:00  1570577273857929217   \n",
       "256  1067218780806307841 2022-09-15 20:51:45+00:00  1570515737856577536   \n",
       "\n",
       "    content                                     public_metrics  \\\n",
       "247   likes  {'retweet_count': 5, 'reply_count': 5, 'like_c...   \n",
       "248   likes  {'retweet_count': 0, 'reply_count': 0, 'like_c...   \n",
       "249   likes  {'retweet_count': 0, 'reply_count': 0, 'like_c...   \n",
       "250   likes  {'retweet_count': 6, 'reply_count': 0, 'like_c...   \n",
       "251   likes  {'retweet_count': 0, 'reply_count': 1, 'like_c...   \n",
       "252   likes  {'retweet_count': 0, 'reply_count': 1, 'like_c...   \n",
       "253   likes  {'retweet_count': 10, 'reply_count': 1, 'like_...   \n",
       "254   likes  {'retweet_count': 2, 'reply_count': 0, 'like_c...   \n",
       "255   likes  {'retweet_count': 10, 'reply_count': 0, 'like_...   \n",
       "256   likes  {'retweet_count': 100, 'reply_count': 5, 'like...   \n",
       "\n",
       "     in_reply_to_user_id                                hashtags  \\\n",
       "247                 None  [PostdocJEDIChampions22, StanfordAIMI]   \n",
       "248  1067218780806307841                                      []   \n",
       "249  1067218780806307841                                      []   \n",
       "250                 None                                [NLProc]   \n",
       "251  1239836152418299904                                      []   \n",
       "252  1067218780806307841                                      []   \n",
       "253                 None                                      []   \n",
       "254                 None                                      []   \n",
       "255                 None                                      []   \n",
       "256                 None                                      []   \n",
       "\n",
       "                                               context  \n",
       "247  [entertainment & leisure business, star wars, ...  \n",
       "248  [midjourney, digital artwork, ai image generat...  \n",
       "249                                                 []  \n",
       "250                              [technology business]  \n",
       "251                                                 []  \n",
       "252                                                 []  \n",
       "253                                                 []  \n",
       "254                   [technology business, economics]  \n",
       "255  [stanford university, stanford university, gov...  \n",
       "256                                                 []  "
      ]
     },
     "execution_count": 116,
     "metadata": {},
     "output_type": "execute_result"
    },
    {
     "name": "stdout",
     "output_type": "stream",
     "text": [
      "time: 40.5 s (started: 2022-12-31 11:12:33 -05:00)\n"
     ]
    }
   ],
   "source": [
    "# test_users= user_d1_nodes.get('following')\n",
    "content_df = pd.DataFrame()\n",
    "\n",
    "for c in [\"tweets\", \"mentions\", \"likes\"]:\n",
    "    time.sleep(0.5)\n",
    "    for i, test_user in enumerate(test_users[:5]):\n",
    "        print(f\"users:{i}/{len(test_users)}\")\n",
    "        if i%100==0:\n",
    "            time.sleep(10)\n",
    "        data = get_content_type(user_id=test_user, content_type=c)\n",
    "        try:\n",
    "            for d in data:  \n",
    "                content_df = content_df.append({\n",
    "                                                        \"user_id\": test_user,\n",
    "                                                        \"timestamp\": d.created_at,\n",
    "                                                        \"tweet_id\": d.id,\n",
    "                                                        \"content\": c,\n",
    "                                                        \"public_metrics\": d.public_metrics,\n",
    "                                                        \"in_reply_to_user_id\":d.in_reply_to_user_id,\n",
    "                                                        \"hashtags\": [h.get('tag') for h in d.get('entities').get('hashtags', ())],\n",
    "                                                        \"context\": [t.get('entity', ()).get('name').lower() for t in d.context_annotations]}, ignore_index=True)\n",
    "        except:\n",
    "            continue\n",
    "    print(f\"{c}: {content_df.shape}\")\n",
    "print(f\"{c}: {content_df.shape}\")\n",
    "content_df.to_csv(f\"data/tie_features_{time.strftime('%Y%m%d')}.csv\", index=False) #%H%M%S\n",
    "content_df.tail(10)"
   ]
  },
  {
   "cell_type": "code",
   "execution_count": 98,
   "id": "f65d8b73-36bd-4ab7-87e1-9ae38639d839",
   "metadata": {},
   "outputs": [
    {
     "name": "stdout",
     "output_type": "stream",
     "text": [
      "(259, 8)\n"
     ]
    },
    {
     "data": {
      "text/html": [
       "<div>\n",
       "<style scoped>\n",
       "    .dataframe tbody tr th:only-of-type {\n",
       "        vertical-align: middle;\n",
       "    }\n",
       "\n",
       "    .dataframe tbody tr th {\n",
       "        vertical-align: top;\n",
       "    }\n",
       "\n",
       "    .dataframe thead th {\n",
       "        text-align: right;\n",
       "    }\n",
       "</style>\n",
       "<table border=\"1\" class=\"dataframe\">\n",
       "  <thead>\n",
       "    <tr style=\"text-align: right;\">\n",
       "      <th></th>\n",
       "      <th>user_id</th>\n",
       "      <th>timestamp</th>\n",
       "      <th>tweet_id</th>\n",
       "      <th>content</th>\n",
       "      <th>public_metrics</th>\n",
       "      <th>in_reply_to_user_id</th>\n",
       "      <th>hashtags</th>\n",
       "      <th>context</th>\n",
       "    </tr>\n",
       "  </thead>\n",
       "  <tbody>\n",
       "    <tr>\n",
       "      <th>0</th>\n",
       "      <td>3289153303</td>\n",
       "      <td>2022-12-30 19:40:48+00:00</td>\n",
       "      <td>1608910996969754624</td>\n",
       "      <td>tweets</td>\n",
       "      <td>{'retweet_count': 0, 'reply_count': 1, 'like_c...</td>\n",
       "      <td>2738381</td>\n",
       "      <td>[]</td>\n",
       "      <td>['financial services business', 'travel &amp; tran...</td>\n",
       "    </tr>\n",
       "    <tr>\n",
       "      <th>1</th>\n",
       "      <td>3289153303</td>\n",
       "      <td>2022-12-30 19:32:23+00:00</td>\n",
       "      <td>1608908877877370880</td>\n",
       "      <td>tweets</td>\n",
       "      <td>{'retweet_count': 0, 'reply_count': 1, 'like_c...</td>\n",
       "      <td>650733</td>\n",
       "      <td>[]</td>\n",
       "      <td>['transportation', 'automotive, aircraft &amp; boa...</td>\n",
       "    </tr>\n",
       "    <tr>\n",
       "      <th>2</th>\n",
       "      <td>3289153303</td>\n",
       "      <td>2022-12-30 19:05:19+00:00</td>\n",
       "      <td>1608902065933410305</td>\n",
       "      <td>tweets</td>\n",
       "      <td>{'retweet_count': 0, 'reply_count': 1, 'like_c...</td>\n",
       "      <td>905201</td>\n",
       "      <td>[]</td>\n",
       "      <td>[]</td>\n",
       "    </tr>\n",
       "    <tr>\n",
       "      <th>3</th>\n",
       "      <td>3289153303</td>\n",
       "      <td>2022-12-30 18:59:53+00:00</td>\n",
       "      <td>1608900699773100033</td>\n",
       "      <td>tweets</td>\n",
       "      <td>{'retweet_count': 0, 'reply_count': 1, 'like_c...</td>\n",
       "      <td>650733</td>\n",
       "      <td>[]</td>\n",
       "      <td>['transportation', 'automotive, aircraft &amp; boa...</td>\n",
       "    </tr>\n",
       "    <tr>\n",
       "      <th>4</th>\n",
       "      <td>3289153303</td>\n",
       "      <td>2022-12-30 18:53:29+00:00</td>\n",
       "      <td>1608899091022647296</td>\n",
       "      <td>tweets</td>\n",
       "      <td>{'retweet_count': 0, 'reply_count': 1, 'like_c...</td>\n",
       "      <td>1584642529</td>\n",
       "      <td>[]</td>\n",
       "      <td>['andrew tate']</td>\n",
       "    </tr>\n",
       "  </tbody>\n",
       "</table>\n",
       "</div>"
      ],
      "text/plain": [
       "      user_id                  timestamp             tweet_id content  \\\n",
       "0  3289153303  2022-12-30 19:40:48+00:00  1608910996969754624  tweets   \n",
       "1  3289153303  2022-12-30 19:32:23+00:00  1608908877877370880  tweets   \n",
       "2  3289153303  2022-12-30 19:05:19+00:00  1608902065933410305  tweets   \n",
       "3  3289153303  2022-12-30 18:59:53+00:00  1608900699773100033  tweets   \n",
       "4  3289153303  2022-12-30 18:53:29+00:00  1608899091022647296  tweets   \n",
       "\n",
       "                                      public_metrics  in_reply_to_user_id  \\\n",
       "0  {'retweet_count': 0, 'reply_count': 1, 'like_c...              2738381   \n",
       "1  {'retweet_count': 0, 'reply_count': 1, 'like_c...               650733   \n",
       "2  {'retweet_count': 0, 'reply_count': 1, 'like_c...               905201   \n",
       "3  {'retweet_count': 0, 'reply_count': 1, 'like_c...               650733   \n",
       "4  {'retweet_count': 0, 'reply_count': 1, 'like_c...           1584642529   \n",
       "\n",
       "  hashtags                                            context  \n",
       "0       []  ['financial services business', 'travel & tran...  \n",
       "1       []  ['transportation', 'automotive, aircraft & boa...  \n",
       "2       []                                                 []  \n",
       "3       []  ['transportation', 'automotive, aircraft & boa...  \n",
       "4       []                                    ['andrew tate']  "
      ]
     },
     "execution_count": 98,
     "metadata": {},
     "output_type": "execute_result"
    },
    {
     "name": "stdout",
     "output_type": "stream",
     "text": [
      "time: 12.1 ms (started: 2022-12-31 01:33:10 -05:00)\n"
     ]
    }
   ],
   "source": [
    "content_df_all = pd.concat([pd.read_csv(f\"data/{c}_{time.strftime('%Y%m%d')}.csv\") for c in [\"tweets\", \"mentions\", \"likes\"]], ignore_index=True)\n",
    "content_df_all.in_reply_to_user_id = content_df_all.in_reply_to_user_id.fillna(0.0).astype(int)\n",
    "print(content_df_all.shape)\n",
    "content_df_all.head()"
   ]
  },
  {
   "cell_type": "code",
   "execution_count": 119,
   "id": "87d9a39e-bb6f-46f4-8d3b-f3352507c913",
   "metadata": {},
   "outputs": [
    {
     "data": {
      "text/html": [
       "<div>\n",
       "<style scoped>\n",
       "    .dataframe tbody tr th:only-of-type {\n",
       "        vertical-align: middle;\n",
       "    }\n",
       "\n",
       "    .dataframe tbody tr th {\n",
       "        vertical-align: top;\n",
       "    }\n",
       "\n",
       "    .dataframe thead th {\n",
       "        text-align: right;\n",
       "    }\n",
       "</style>\n",
       "<table border=\"1\" class=\"dataframe\">\n",
       "  <thead>\n",
       "    <tr style=\"text-align: right;\">\n",
       "      <th></th>\n",
       "      <th>source</th>\n",
       "      <th>target</th>\n",
       "      <th>weight</th>\n",
       "    </tr>\n",
       "  </thead>\n",
       "  <tbody>\n",
       "    <tr>\n",
       "      <th>0</th>\n",
       "      <td>19725644</td>\n",
       "      <td>13445732</td>\n",
       "      <td>1</td>\n",
       "    </tr>\n",
       "    <tr>\n",
       "      <th>1</th>\n",
       "      <td>19725644</td>\n",
       "      <td>31039201</td>\n",
       "      <td>1</td>\n",
       "    </tr>\n",
       "    <tr>\n",
       "      <th>2</th>\n",
       "      <td>19725644</td>\n",
       "      <td>38361272</td>\n",
       "      <td>1</td>\n",
       "    </tr>\n",
       "    <tr>\n",
       "      <th>3</th>\n",
       "      <td>19725644</td>\n",
       "      <td>39439838</td>\n",
       "      <td>1</td>\n",
       "    </tr>\n",
       "    <tr>\n",
       "      <th>4</th>\n",
       "      <td>19725644</td>\n",
       "      <td>44196397</td>\n",
       "      <td>3</td>\n",
       "    </tr>\n",
       "  </tbody>\n",
       "</table>\n",
       "</div>"
      ],
      "text/plain": [
       "     source    target  weight\n",
       "0  19725644  13445732       1\n",
       "1  19725644  31039201       1\n",
       "2  19725644  38361272       1\n",
       "3  19725644  39439838       1\n",
       "4  19725644  44196397       3"
      ]
     },
     "execution_count": 119,
     "metadata": {},
     "output_type": "execute_result"
    },
    {
     "name": "stdout",
     "output_type": "stream",
     "text": [
      "time: 8.9 ms (started: 2022-12-31 15:01:26 -05:00)\n"
     ]
    }
   ],
   "source": [
    "content_df_all[(content_df_all.user_id != content_df_all.in_reply_to_user_id) & (content_df_all.in_reply_to_user_id != 0)] \\\n",
    "    .groupby([\"user_id\", \"in_reply_to_user_id\"]) \\\n",
    "    .tweet_id \\\n",
    "    .count()\\\n",
    "    .reset_index() \\\n",
    "    .rename(columns={'user_id': 'source','in_reply_to_user_id': 'target', 'tweet_id': 'weight', }).head()"
   ]
  },
  {
   "cell_type": "code",
   "execution_count": 105,
   "id": "8f4277d5-78ee-4afa-b1bb-100aeac53341",
   "metadata": {},
   "outputs": [
    {
     "data": {
      "text/html": [
       "<div>\n",
       "<style scoped>\n",
       "    .dataframe tbody tr th:only-of-type {\n",
       "        vertical-align: middle;\n",
       "    }\n",
       "\n",
       "    .dataframe tbody tr th {\n",
       "        vertical-align: top;\n",
       "    }\n",
       "\n",
       "    .dataframe thead th {\n",
       "        text-align: right;\n",
       "    }\n",
       "</style>\n",
       "<table border=\"1\" class=\"dataframe\">\n",
       "  <thead>\n",
       "    <tr style=\"text-align: right;\">\n",
       "      <th></th>\n",
       "      <th>id</th>\n",
       "      <th>name</th>\n",
       "      <th>profile_image_url</th>\n",
       "      <th>public_metrics</th>\n",
       "      <th>username</th>\n",
       "      <th>verified</th>\n",
       "      <th>withheld</th>\n",
       "    </tr>\n",
       "  </thead>\n",
       "  <tbody>\n",
       "    <tr>\n",
       "      <th>1956</th>\n",
       "      <td>175624200</td>\n",
       "      <td>John Carmack</td>\n",
       "      <td>https://pbs.twimg.com/profile_images/110649778...</td>\n",
       "      <td>{'followers_count': 953883, 'following_count':...</td>\n",
       "      <td>ID_AA_Carmack</td>\n",
       "      <td>True</td>\n",
       "      <td>NaN</td>\n",
       "    </tr>\n",
       "    <tr>\n",
       "      <th>48066</th>\n",
       "      <td>44196397</td>\n",
       "      <td>Elon Musk</td>\n",
       "      <td>https://pbs.twimg.com/profile_images/150359143...</td>\n",
       "      <td>{'followers_count': 81133488, 'following_count...</td>\n",
       "      <td>elonmusk</td>\n",
       "      <td>True</td>\n",
       "      <td>NaN</td>\n",
       "    </tr>\n",
       "    <tr>\n",
       "      <th>56906</th>\n",
       "      <td>18676154</td>\n",
       "      <td>Shawn Presser</td>\n",
       "      <td>https://pbs.twimg.com/profile_images/107744830...</td>\n",
       "      <td>{'followers_count': 4739, 'following_count': 2...</td>\n",
       "      <td>theshawwn</td>\n",
       "      <td>False</td>\n",
       "      <td>NaN</td>\n",
       "    </tr>\n",
       "    <tr>\n",
       "      <th>64968</th>\n",
       "      <td>19725644</td>\n",
       "      <td>Neil deGrasse Tyson</td>\n",
       "      <td>https://pbs.twimg.com/profile_images/74188698/...</td>\n",
       "      <td>{'followers_count': 14622136, 'following_count...</td>\n",
       "      <td>neiltyson</td>\n",
       "      <td>True</td>\n",
       "      <td>NaN</td>\n",
       "    </tr>\n",
       "    <tr>\n",
       "      <th>84489</th>\n",
       "      <td>130745589</td>\n",
       "      <td>Fei-Fei Li</td>\n",
       "      <td>https://pbs.twimg.com/profile_images/841385099...</td>\n",
       "      <td>{'followers_count': 397370, 'following_count':...</td>\n",
       "      <td>drfeifei</td>\n",
       "      <td>True</td>\n",
       "      <td>NaN</td>\n",
       "    </tr>\n",
       "  </tbody>\n",
       "</table>\n",
       "</div>"
      ],
      "text/plain": [
       "              id                 name  \\\n",
       "1956   175624200         John Carmack   \n",
       "48066   44196397            Elon Musk   \n",
       "56906   18676154        Shawn Presser   \n",
       "64968   19725644  Neil deGrasse Tyson   \n",
       "84489  130745589           Fei-Fei Li   \n",
       "\n",
       "                                       profile_image_url  \\\n",
       "1956   https://pbs.twimg.com/profile_images/110649778...   \n",
       "48066  https://pbs.twimg.com/profile_images/150359143...   \n",
       "56906  https://pbs.twimg.com/profile_images/107744830...   \n",
       "64968  https://pbs.twimg.com/profile_images/74188698/...   \n",
       "84489  https://pbs.twimg.com/profile_images/841385099...   \n",
       "\n",
       "                                          public_metrics       username  \\\n",
       "1956   {'followers_count': 953883, 'following_count':...  ID_AA_Carmack   \n",
       "48066  {'followers_count': 81133488, 'following_count...       elonmusk   \n",
       "56906  {'followers_count': 4739, 'following_count': 2...      theshawwn   \n",
       "64968  {'followers_count': 14622136, 'following_count...      neiltyson   \n",
       "84489  {'followers_count': 397370, 'following_count':...       drfeifei   \n",
       "\n",
       "       verified withheld  \n",
       "1956       True      NaN  \n",
       "48066      True      NaN  \n",
       "56906     False      NaN  \n",
       "64968      True      NaN  \n",
       "84489      True      NaN  "
      ]
     },
     "execution_count": 105,
     "metadata": {},
     "output_type": "execute_result"
    },
    {
     "name": "stdout",
     "output_type": "stream",
     "text": [
      "time: 9.02 ms (started: 2022-12-31 01:36:09 -05:00)\n"
     ]
    }
   ],
   "source": [
    "nodes[nodes.id.isin([19725644, 175624200, 44196397, 18676154, 130745589])]"
   ]
  },
  {
   "cell_type": "code",
   "execution_count": 85,
   "id": "341c36b2-73d7-49f6-a5a4-838f4503f7c5",
   "metadata": {},
   "outputs": [
    {
     "name": "stdout",
     "output_type": "stream",
     "text": [
      "{'Automotive, Aircraft & Boat Business', 'Luxury Cars', 'Design', 'Automotive', 'Tesla Motors', 'Hybrid and electric vehicles', 'Auto Manufacturer - Auto', 'Automobile Brands'}\n",
      "time: 355 ms (started: 2022-12-31 01:18:35 -05:00)\n"
     ]
    }
   ],
   "source": [
    "tweets = client.get_users_mentions(id=test_user, tweet_fields=['context_annotations','created_at','geo'])\n",
    "\n",
    "for tweet in tweets.data:\n",
    "    # print(tweet)\n",
    "    context = set([t.get('entity').get('name')for t in tweet.context_annotations])\n",
    "print(context)"
   ]
  },
  {
   "cell_type": "code",
   "execution_count": 316,
   "id": "105429f2-9d38-497c-86ca-bad2b56e9f96",
   "metadata": {},
   "outputs": [
    {
     "data": {
      "text/plain": [
       "user_id              content \n",
       "1938030980           likes       95\n",
       "                     mentions    10\n",
       "                     tweets      10\n",
       "2465283662           likes       99\n",
       "                     mentions    10\n",
       "                     tweets      10\n",
       "1433718835127926787  likes       43\n",
       "                     mentions    10\n",
       "                     tweets      10\n",
       "Name: tweet_id, dtype: int64"
      ]
     },
     "execution_count": 316,
     "metadata": {},
     "output_type": "execute_result"
    },
    {
     "name": "stdout",
     "output_type": "stream",
     "text": [
      "time: 10.9 ms (started: 2022-12-04 21:54:28 -05:00)\n"
     ]
    }
   ],
   "source": [
    "tweets_dataframe.groupby(['user_id', 'content']).tweet_id.count()"
   ]
  },
  {
   "cell_type": "code",
   "execution_count": 113,
   "id": "627eeb80-bbb2-44bd-b7f2-77db6bfd84f0",
   "metadata": {},
   "outputs": [
    {
     "data": {
      "text/plain": [
       "{1: {'previous': {1, 2}, 'current': set(), 'new': set()},\n",
       " 2: {'previous': set(), 'current': set(), 'new': set()}}"
      ]
     },
     "execution_count": 113,
     "metadata": {},
     "output_type": "execute_result"
    },
    {
     "name": "stdout",
     "output_type": "stream",
     "text": [
      "time: 2.81 ms (started: 2022-12-31 10:07:44 -05:00)\n"
     ]
    }
   ],
   "source": [
    "alters = {\n",
    "            i: {\"previous\": set(), \"current\": set(), \"new\": set()}\n",
    "            for i in range(1, 2 + 1)\n",
    "        }\n",
    "alters[1][\"previous\"] = set([1,2,7])\n",
    "alters[1][\"previous\"] = alters.get(1).get(\"previous\").difference(set([7]))\n",
    "alters"
   ]
  },
  {
   "cell_type": "code",
   "execution_count": 117,
   "id": "017a472c-72e1-442d-8591-237ffdc9ee42",
   "metadata": {},
   "outputs": [
    {
     "data": {
      "text/html": [
       "<div>\n",
       "<style scoped>\n",
       "    .dataframe tbody tr th:only-of-type {\n",
       "        vertical-align: middle;\n",
       "    }\n",
       "\n",
       "    .dataframe tbody tr th {\n",
       "        vertical-align: top;\n",
       "    }\n",
       "\n",
       "    .dataframe thead th {\n",
       "        text-align: right;\n",
       "    }\n",
       "</style>\n",
       "<table border=\"1\" class=\"dataframe\">\n",
       "  <thead>\n",
       "    <tr style=\"text-align: right;\">\n",
       "      <th></th>\n",
       "      <th>user_id</th>\n",
       "      <th>content</th>\n",
       "      <th>timestamp</th>\n",
       "      <th>tweet_id</th>\n",
       "      <th>public_metrics</th>\n",
       "      <th>in_reply_to_user_id</th>\n",
       "      <th>hashtags</th>\n",
       "      <th>context</th>\n",
       "    </tr>\n",
       "  </thead>\n",
       "  <tbody>\n",
       "    <tr>\n",
       "      <th>0</th>\n",
       "      <td>1034954029896355840</td>\n",
       "      <td>tweets</td>\n",
       "      <td>2022-12-30 05:48:45+00:00</td>\n",
       "      <td>1608701605326749696</td>\n",
       "      <td>{'retweet_count': 8, 'reply_count': 0, 'like_c...</td>\n",
       "      <td>NaN</td>\n",
       "      <td>[]</td>\n",
       "      <td>['government/education', 'education related - ...</td>\n",
       "    </tr>\n",
       "    <tr>\n",
       "      <th>1</th>\n",
       "      <td>1034954029896355840</td>\n",
       "      <td>tweets</td>\n",
       "      <td>2022-12-30 05:43:51+00:00</td>\n",
       "      <td>1608700371886804993</td>\n",
       "      <td>{'retweet_count': 3, 'reply_count': 0, 'like_c...</td>\n",
       "      <td>NaN</td>\n",
       "      <td>[]</td>\n",
       "      <td>['publisher &amp; news business', 'the new york ti...</td>\n",
       "    </tr>\n",
       "    <tr>\n",
       "      <th>2</th>\n",
       "      <td>1034954029896355840</td>\n",
       "      <td>tweets</td>\n",
       "      <td>2022-12-30 00:56:27+00:00</td>\n",
       "      <td>1608628045921026048</td>\n",
       "      <td>{'retweet_count': 11, 'reply_count': 0, 'like_...</td>\n",
       "      <td>NaN</td>\n",
       "      <td>[]</td>\n",
       "      <td>['publisher &amp; news business', 'time magazine',...</td>\n",
       "    </tr>\n",
       "    <tr>\n",
       "      <th>3</th>\n",
       "      <td>1034954029896355840</td>\n",
       "      <td>tweets</td>\n",
       "      <td>2022-12-29 21:18:51+00:00</td>\n",
       "      <td>1608573283175395334</td>\n",
       "      <td>{'retweet_count': 0, 'reply_count': 2, 'like_c...</td>\n",
       "      <td>1.034954e+18</td>\n",
       "      <td>[]</td>\n",
       "      <td>[]</td>\n",
       "    </tr>\n",
       "    <tr>\n",
       "      <th>4</th>\n",
       "      <td>1034954029896355840</td>\n",
       "      <td>tweets</td>\n",
       "      <td>2022-12-29 21:18:50+00:00</td>\n",
       "      <td>1608573281598062592</td>\n",
       "      <td>{'retweet_count': 3, 'reply_count': 1, 'like_c...</td>\n",
       "      <td>1.034954e+18</td>\n",
       "      <td>[]</td>\n",
       "      <td>[]</td>\n",
       "    </tr>\n",
       "  </tbody>\n",
       "</table>\n",
       "</div>"
      ],
      "text/plain": [
       "               user_id content                  timestamp  \\\n",
       "0  1034954029896355840  tweets  2022-12-30 05:48:45+00:00   \n",
       "1  1034954029896355840  tweets  2022-12-30 05:43:51+00:00   \n",
       "2  1034954029896355840  tweets  2022-12-30 00:56:27+00:00   \n",
       "3  1034954029896355840  tweets  2022-12-29 21:18:51+00:00   \n",
       "4  1034954029896355840  tweets  2022-12-29 21:18:50+00:00   \n",
       "\n",
       "              tweet_id                                     public_metrics  \\\n",
       "0  1608701605326749696  {'retweet_count': 8, 'reply_count': 0, 'like_c...   \n",
       "1  1608700371886804993  {'retweet_count': 3, 'reply_count': 0, 'like_c...   \n",
       "2  1608628045921026048  {'retweet_count': 11, 'reply_count': 0, 'like_...   \n",
       "3  1608573283175395334  {'retweet_count': 0, 'reply_count': 2, 'like_c...   \n",
       "4  1608573281598062592  {'retweet_count': 3, 'reply_count': 1, 'like_c...   \n",
       "\n",
       "   in_reply_to_user_id hashtags  \\\n",
       "0                  NaN       []   \n",
       "1                  NaN       []   \n",
       "2                  NaN       []   \n",
       "3         1.034954e+18       []   \n",
       "4         1.034954e+18       []   \n",
       "\n",
       "                                             context  \n",
       "0  ['government/education', 'education related - ...  \n",
       "1  ['publisher & news business', 'the new york ti...  \n",
       "2  ['publisher & news business', 'time magazine',...  \n",
       "3                                                 []  \n",
       "4                                                 []  "
      ]
     },
     "execution_count": 117,
     "metadata": {},
     "output_type": "execute_result"
    },
    {
     "name": "stdout",
     "output_type": "stream",
     "text": [
      "time: 1.39 s (started: 2022-12-31 13:25:22 -05:00)\n"
     ]
    }
   ],
   "source": [
    "content = dd.read_csv(f\"{CLOUD_STORAGE_BUCKET}/features/ties/*.csv\").compute()\n",
    "content.head()"
   ]
  },
  {
   "cell_type": "code",
   "execution_count": 122,
   "id": "bc8c9386-4887-4aaf-a6de-6396ca462955",
   "metadata": {},
   "outputs": [
    {
     "name": "stdout",
     "output_type": "stream",
     "text": [
      "(13166, 8)\n",
      "(2034, 3)\n"
     ]
    },
    {
     "data": {
      "text/html": [
       "<div>\n",
       "<style scoped>\n",
       "    .dataframe tbody tr th:only-of-type {\n",
       "        vertical-align: middle;\n",
       "    }\n",
       "\n",
       "    .dataframe tbody tr th {\n",
       "        vertical-align: top;\n",
       "    }\n",
       "\n",
       "    .dataframe thead th {\n",
       "        text-align: right;\n",
       "    }\n",
       "</style>\n",
       "<table border=\"1\" class=\"dataframe\">\n",
       "  <thead>\n",
       "    <tr style=\"text-align: right;\">\n",
       "      <th></th>\n",
       "      <th>source</th>\n",
       "      <th>target</th>\n",
       "      <th>weight</th>\n",
       "    </tr>\n",
       "  </thead>\n",
       "  <tbody>\n",
       "    <tr>\n",
       "      <th>0</th>\n",
       "      <td>12</td>\n",
       "      <td>22.0</td>\n",
       "      <td>1</td>\n",
       "    </tr>\n",
       "    <tr>\n",
       "      <th>1</th>\n",
       "      <td>12</td>\n",
       "      <td>9918032.0</td>\n",
       "      <td>1</td>\n",
       "    </tr>\n",
       "    <tr>\n",
       "      <th>2</th>\n",
       "      <td>12</td>\n",
       "      <td>16158749.0</td>\n",
       "      <td>1</td>\n",
       "    </tr>\n",
       "    <tr>\n",
       "      <th>3</th>\n",
       "      <td>12</td>\n",
       "      <td>31139034.0</td>\n",
       "      <td>1</td>\n",
       "    </tr>\n",
       "    <tr>\n",
       "      <th>4</th>\n",
       "      <td>12</td>\n",
       "      <td>147627379.0</td>\n",
       "      <td>1</td>\n",
       "    </tr>\n",
       "  </tbody>\n",
       "</table>\n",
       "</div>"
      ],
      "text/plain": [
       "   source       target  weight\n",
       "0      12         22.0       1\n",
       "1      12    9918032.0       1\n",
       "2      12   16158749.0       1\n",
       "3      12   31139034.0       1\n",
       "4      12  147627379.0       1"
      ]
     },
     "execution_count": 122,
     "metadata": {},
     "output_type": "execute_result"
    },
    {
     "name": "stdout",
     "output_type": "stream",
     "text": [
      "time: 11.1 ms (started: 2022-12-31 15:02:09 -05:00)\n"
     ]
    }
   ],
   "source": [
    "print(content.shape)\n",
    "_ = content[(content.user_id != content.in_reply_to_user_id) & (content.in_reply_to_user_id != 0)] \\\n",
    "    .groupby([\"user_id\", \"in_reply_to_user_id\"]) \\\n",
    "    .tweet_id \\\n",
    "    .count()\\\n",
    "    .reset_index() \\\n",
    "    .rename(columns={'user_id': 'source','in_reply_to_user_id': 'target', 'tweet_id': 'weight', })\n",
    "print(_.shape)\n",
    "_.head()"
   ]
  },
  {
   "cell_type": "code",
   "execution_count": 185,
   "id": "18d8ba4c-d416-4c07-92e2-407d21b2f4a0",
   "metadata": {},
   "outputs": [
    {
     "data": {
      "text/plain": [
       "{0: 2.6666666666666665,\n",
       " 1: 2.6666666666666665,\n",
       " 2: 2.6666666666666665,\n",
       " 3: 9.5,\n",
       " 4: 20.0,\n",
       " 5: 9.5,\n",
       " 6: 2.6666666666666665,\n",
       " 7: 2.6666666666666665,\n",
       " 8: 2.6666666666666665}"
      ]
     },
     "execution_count": 185,
     "metadata": {},
     "output_type": "execute_result"
    },
    {
     "data": {
      "image/png": "[encoded data removed]",
      "text/plain": [
       "<Figure size 432x288 with 1 Axes>"
      ]
     },
     "metadata": {},
     "output_type": "display_data"
    },
    {
     "name": "stdout",
     "output_type": "stream",
     "text": [
      "time: 165 ms (started: 2022-12-31 16:19:21 -05:00)\n"
     ]
    }
   ],
   "source": [
    "def brokerage(graph, k=500, seed=42):\n",
    "    from networkx import edge_betweenness_centrality\n",
    "    from pandas import Series\n",
    "\n",
    "    e_cen = edge_betweenness_centrality(\n",
    "        graph,\n",
    "        k=min(graph.number_of_nodes(), k),\n",
    "        seed=seed,\n",
    "        normalized=False,\n",
    "        weight=\"weight\",\n",
    "    )\n",
    "    measure = (\n",
    "        Series(e_cen)\n",
    "        .rename_axis([\"source\", \"target\"])\n",
    "        .reset_index(name=\"measure_value\")\n",
    "        .groupby(\"source\").measure_value.mean().to_dict()\n",
    "    )\n",
    "    return measure\n",
    "\n",
    "G_b = nx.barbell_graph(m1 = 4, m2 = 1).to_directed()\n",
    "nx.draw(G_b, with_labels = True)\n",
    "m_ = brokerage(G_b)\n",
    "m_"
   ]
  },
  {
   "cell_type": "code",
   "execution_count": 183,
   "id": "412e99d6-9e2c-4712-b2c9-c37b4ecb7786",
   "metadata": {},
   "outputs": [
    {
     "data": {
      "text/plain": [
       "{0: 1.6666666666666667,\n",
       " 1: 1.6666666666666667,\n",
       " 2: 1.6666666666666667,\n",
       " 3: 4.25,\n",
       " 4: 6.5,\n",
       " 5: 5.0}"
      ]
     },
     "execution_count": 183,
     "metadata": {},
     "output_type": "execute_result"
    },
    {
     "data": {
      "image/png": "[encoded data removed]",
      "text/plain": [
       "<Figure size 432x288 with 1 Axes>"
      ]
     },
     "metadata": {},
     "output_type": "display_data"
    },
    {
     "name": "stdout",
     "output_type": "stream",
     "text": [
      "time: 121 ms (started: 2022-12-31 16:18:51 -05:00)\n"
     ]
    }
   ],
   "source": [
    "G_b = nx.lollipop_graph(m = 4, n = 2).to_directed()\n",
    "nx.draw(G_b, with_labels = True)\n",
    "m_ = brokerage(G_b)\n",
    "m_"
   ]
  },
  {
   "cell_type": "code",
   "execution_count": null,
   "id": "8b8ccece-dd25-4a9f-91d0-d88ce9e94556",
   "metadata": {},
   "outputs": [],
   "source": []
  }
 ],
 "metadata": {
  "kernelspec": {
   "display_name": "Python 3 (ipykernel)",
   "language": "python",
   "name": "python3"
  },
  "language_info": {
   "codemirror_mode": {
    "name": "ipython",
    "version": 3
   },
   "file_extension": ".py",
   "mimetype": "text/x-python",
   "name": "python",
   "nbconvert_exporter": "python",
   "pygments_lexer": "ipython3",
   "version": "3.8.5"
  }
 },
 "nbformat": 4,
 "nbformat_minor": 5
}
